{
 "cells": [
  {
   "cell_type": "code",
   "execution_count": 1,
   "id": "b902d0b3-3703-4cc3-922b-fa83caf9b7b8",
   "metadata": {},
   "outputs": [],
   "source": [
    "import numpy as np\n",
    "import matplotlib.pyplot as plt\n",
    "from sklearn.linear_model import LogisticRegression"
   ]
  },
  {
   "cell_type": "code",
   "execution_count": 2,
   "id": "67b59484-99d7-4919-af2a-45b130cf5725",
   "metadata": {},
   "outputs": [],
   "source": [
    "xTrain = np.array([[0.5, 1.5], [1,1], [1.5, 0.5], [3, 0.5], [2, 2], [1, 2.5]])\n",
    "yTrain = np.array([0, 0, 0, 1, 1, 1])      "
   ]
  },
  {
   "cell_type": "code",
   "execution_count": 4,
   "id": "9bbdebb5-f31a-4d62-ad6f-5f6f0b2eb732",
   "metadata": {},
   "outputs": [
    {
     "name": "stdout",
     "output_type": "stream",
     "text": [
      "number of iterations completed: [7]\n",
      "Accuracy on training set: 1.0\n"
     ]
    }
   ],
   "source": [
    "model = LogisticRegression()\n",
    "model.fit(xTrain, yTrain)\n",
    "\n",
    "print(f\"number of iterations completed: {model.n_iter_}\")\n",
    "print(f\"Accuracy on training set: {model.score(xTrain, yTrain)}\")"
   ]
  },
  {
   "cell_type": "code",
   "execution_count": null,
   "id": "9329821e-702c-43c8-a445-2554601fd1a6",
   "metadata": {},
   "outputs": [],
   "source": []
  }
 ],
 "metadata": {
  "kernelspec": {
   "display_name": "Python 3 (ipykernel)",
   "language": "python",
   "name": "python3"
  },
  "language_info": {
   "codemirror_mode": {
    "name": "ipython",
    "version": 3
   },
   "file_extension": ".py",
   "mimetype": "text/x-python",
   "name": "python",
   "nbconvert_exporter": "python",
   "pygments_lexer": "ipython3",
   "version": "3.12.4"
  }
 },
 "nbformat": 4,
 "nbformat_minor": 5
}
