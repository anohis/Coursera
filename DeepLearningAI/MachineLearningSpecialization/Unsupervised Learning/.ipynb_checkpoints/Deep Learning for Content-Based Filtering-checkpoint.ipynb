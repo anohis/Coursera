{
 "cells": [
  {
   "cell_type": "code",
   "execution_count": 1,
   "id": "81f02640-b581-44ac-9a9f-bb21f5ba374f",
   "metadata": {},
   "outputs": [],
   "source": [
    "import numpy as np\n",
    "import pandas as pd\n",
    "import tensorflow as tf\n",
    "import csv\n",
    "import pickle\n",
    "\n",
    "from tensorflow import keras\n",
    "from tensorflow.keras.layers import Input, Dense, Lambda, Dot\n",
    "from tensorflow.keras.models import Sequential\n",
    "from tensorflow.keras.losses import MeanSquaredError\n",
    "from tensorflow.keras.optimizers import Adam\n",
    "\n",
    "from sklearn.preprocessing import StandardScaler, MinMaxScaler\n",
    "from sklearn.model_selection import train_test_split\n",
    "\n",
    "from collections import defaultdict"
   ]
  },
  {
   "cell_type": "code",
   "execution_count": 2,
   "id": "28ab8f6c-f1cb-466e-8c42-8fa976229b30",
   "metadata": {},
   "outputs": [],
   "source": [
    "def loadData():\n",
    "    itemTrain = np.genfromtxt('./data/content_item_train.csv', delimiter = ',')\n",
    "    userTrain = np.genfromtxt('./data/content_user_train.csv', delimiter = ',')\n",
    "    yTrain = np.genfromtxt('./data/content_y_train.csv', delimiter = ',')\n",
    "   \n",
    "    itemList = np.genfromtxt('./data/content_item_vecs.csv', delimiter = ',')\n",
    "    userList = np.unique(userTrain, axis = 0)\n",
    "    \n",
    "    with open('./data/content_user_to_genre.pickle', 'rb') as f:\n",
    "        userToGenre = pickle.load(f)\n",
    "\n",
    "    movieInfos = defaultdict(dict)\n",
    "    count = 0\n",
    "    with open('./data/content_movie_list.csv', newline = '') as csvfile:\n",
    "        reader = csv.reader(csvfile, delimiter = ',', quotechar = '\"')\n",
    "        for line in reader:\n",
    "            if count == 0: \n",
    "                count += 1  \n",
    "            else:\n",
    "                count += 1\n",
    "                movieID = int(line[0])  \n",
    "                movieInfos[movieID][\"title\"] = line[1]  \n",
    "                movieInfos[movieID][\"genres\"] = line[2]  \n",
    "    \n",
    "    return (itemTrain, userTrain, yTrain, itemList, userList, userToGenre, movieInfos)"
   ]
  },
  {
   "cell_type": "code",
   "execution_count": 3,
   "id": "d4b005ab-5d1c-4b74-bb30-baba9eb8ba3e",
   "metadata": {},
   "outputs": [
    {
     "name": "stdout",
     "output_type": "stream",
     "text": [
      "itemTrain shape: (58187, 17)\n",
      "itemTrain: [[6.87400000e+03 2.00300000e+03 3.96183206e+00 1.00000000e+00\n",
      "  0.00000000e+00 0.00000000e+00 0.00000000e+00 0.00000000e+00\n",
      "  0.00000000e+00 0.00000000e+00 0.00000000e+00 0.00000000e+00\n",
      "  0.00000000e+00 0.00000000e+00 0.00000000e+00 0.00000000e+00\n",
      "  0.00000000e+00]\n",
      " [6.87400000e+03 2.00300000e+03 3.96183206e+00 0.00000000e+00\n",
      "  0.00000000e+00 0.00000000e+00 0.00000000e+00 0.00000000e+00\n",
      "  1.00000000e+00 0.00000000e+00 0.00000000e+00 0.00000000e+00\n",
      "  0.00000000e+00 0.00000000e+00 0.00000000e+00 0.00000000e+00\n",
      "  0.00000000e+00]\n",
      " [6.87400000e+03 2.00300000e+03 3.96183206e+00 0.00000000e+00\n",
      "  0.00000000e+00 0.00000000e+00 0.00000000e+00 0.00000000e+00\n",
      "  0.00000000e+00 0.00000000e+00 0.00000000e+00 0.00000000e+00\n",
      "  0.00000000e+00 0.00000000e+00 0.00000000e+00 0.00000000e+00\n",
      "  1.00000000e+00]\n",
      " [8.79800000e+03 2.00400000e+03 3.76136364e+00 1.00000000e+00\n",
      "  0.00000000e+00 0.00000000e+00 0.00000000e+00 0.00000000e+00\n",
      "  0.00000000e+00 0.00000000e+00 0.00000000e+00 0.00000000e+00\n",
      "  0.00000000e+00 0.00000000e+00 0.00000000e+00 0.00000000e+00\n",
      "  0.00000000e+00]\n",
      " [8.79800000e+03 2.00400000e+03 3.76136364e+00 0.00000000e+00\n",
      "  0.00000000e+00 0.00000000e+00 0.00000000e+00 0.00000000e+00\n",
      "  1.00000000e+00 0.00000000e+00 0.00000000e+00 0.00000000e+00\n",
      "  0.00000000e+00 0.00000000e+00 0.00000000e+00 0.00000000e+00\n",
      "  0.00000000e+00]]\n",
      "userTrain shape: (58187, 17)\n",
      "userTrain: [[ 2.     16.      4.0625  3.9     5.      0.      0.      4.      4.2\n",
      "   4.      4.      0.      3.      4.      0.      4.25    3.875 ]\n",
      " [ 2.     16.      4.0625  3.9     5.      0.      0.      4.      4.2\n",
      "   4.      4.      0.      3.      4.      0.      4.25    3.875 ]\n",
      " [ 2.     16.      4.0625  3.9     5.      0.      0.      4.      4.2\n",
      "   4.      4.      0.      3.      4.      0.      4.25    3.875 ]\n",
      " [ 2.     16.      4.0625  3.9     5.      0.      0.      4.      4.2\n",
      "   4.      4.      0.      3.      4.      0.      4.25    3.875 ]\n",
      " [ 2.     16.      4.0625  3.9     5.      0.      0.      4.      4.2\n",
      "   4.      4.      0.      3.      4.      0.      4.25    3.875 ]]\n",
      "yTrain shape: (58187,)\n",
      "itemList shape: (1883, 17)\n",
      "userList shape: (395, 17)\n",
      "userFeatureCount: 14\n",
      "itemFeatureCount: 16\n"
     ]
    }
   ],
   "source": [
    "itemTrain, userTrain, yTrain, itemList, userList, userToGenre, movieInfos = loadData()\n",
    "\n",
    "userFeatureStartIdx = 3 \n",
    "itemFeatureStartIdx = 1\n",
    "userFeatureCount = userTrain.shape[1] - userFeatureStartIdx \n",
    "itemFeatureCount = itemTrain.shape[1] - itemFeatureStartIdx \n",
    "\n",
    "print(f\"itemTrain shape: {itemTrain.shape}\")\n",
    "print(f\"itemTrain: {itemTrain[:5]}\")\n",
    "print(f\"userTrain shape: {userTrain.shape}\")\n",
    "print(f\"userTrain: {userTrain[:5]}\")\n",
    "print(f\"yTrain shape: {yTrain.shape}\")\n",
    "print(f\"itemList shape: {itemList.shape}\")\n",
    "print(f\"userList shape: {userList.shape}\")\n",
    "print(f\"userFeatureCount: {userFeatureCount}\")\n",
    "print(f\"itemFeatureCount: {itemFeatureCount}\")"
   ]
  },
  {
   "cell_type": "code",
   "execution_count": 4,
   "id": "5eb26549-a927-4178-b75b-80f8e01335cb",
   "metadata": {},
   "outputs": [],
   "source": [
    "rawUserTrain = userTrain\n",
    "\n",
    "scalerItem = StandardScaler()\n",
    "scalerItem.fit(itemTrain)\n",
    "itemTrain = scalerItem.transform(itemTrain)\n",
    "\n",
    "scalerUser = StandardScaler()\n",
    "scalerUser.fit(userTrain)\n",
    "userTrain = scalerUser.transform(userTrain)\n",
    "\n",
    "scalerTarget = MinMaxScaler((-1, 1))\n",
    "yTrain = yTrain.reshape(-1, 1)\n",
    "scalerTarget.fit(yTrain)\n",
    "yTrain = scalerTarget.transform(yTrain)\n",
    "\n",
    "itemTrain, itemValid = train_test_split(itemTrain, train_size = 0.80, shuffle = True, random_state = 1)\n",
    "userTrain, userValid = train_test_split(userTrain, train_size = 0.80, shuffle = True, random_state = 1)\n",
    "yTrain, yValid = train_test_split(yTrain, train_size = 0.80, shuffle = True, random_state = 1)"
   ]
  },
  {
   "cell_type": "code",
   "execution_count": 5,
   "id": "b172d0e5-ff70-4060-a9ed-584beabcb08b",
   "metadata": {},
   "outputs": [
    {
     "name": "stdout",
     "output_type": "stream",
     "text": [
      "WARNING:tensorflow:From C:\\Users\\anohi\\AppData\\Local\\Programs\\Python\\Python312\\Lib\\site-packages\\keras\\src\\backend\\tensorflow\\core.py:192: The name tf.placeholder is deprecated. Please use tf.compat.v1.placeholder instead.\n",
      "\n",
      "Epoch 1/30\n",
      "\u001b[1m1455/1455\u001b[0m \u001b[32m━━━━━━━━━━━━━━━━━━━━\u001b[0m\u001b[37m\u001b[0m \u001b[1m2s\u001b[0m 832us/step - loss: 0.1306\n",
      "Epoch 2/30\n",
      "\u001b[1m1455/1455\u001b[0m \u001b[32m━━━━━━━━━━━━━━━━━━━━\u001b[0m\u001b[37m\u001b[0m \u001b[1m1s\u001b[0m 862us/step - loss: 0.1173\n",
      "Epoch 3/30\n",
      "\u001b[1m1455/1455\u001b[0m \u001b[32m━━━━━━━━━━━━━━━━━━━━\u001b[0m\u001b[37m\u001b[0m \u001b[1m1s\u001b[0m 841us/step - loss: 0.1151\n",
      "Epoch 4/30\n",
      "\u001b[1m1455/1455\u001b[0m \u001b[32m━━━━━━━━━━━━━━━━━━━━\u001b[0m\u001b[37m\u001b[0m \u001b[1m1s\u001b[0m 825us/step - loss: 0.1137\n",
      "Epoch 5/30\n",
      "\u001b[1m1455/1455\u001b[0m \u001b[32m━━━━━━━━━━━━━━━━━━━━\u001b[0m\u001b[37m\u001b[0m \u001b[1m1s\u001b[0m 811us/step - loss: 0.1126\n",
      "Epoch 6/30\n",
      "\u001b[1m1455/1455\u001b[0m \u001b[32m━━━━━━━━━━━━━━━━━━━━\u001b[0m\u001b[37m\u001b[0m \u001b[1m1s\u001b[0m 890us/step - loss: 0.1116\n",
      "Epoch 7/30\n",
      "\u001b[1m1455/1455\u001b[0m \u001b[32m━━━━━━━━━━━━━━━━━━━━\u001b[0m\u001b[37m\u001b[0m \u001b[1m1s\u001b[0m 850us/step - loss: 0.1108\n",
      "Epoch 8/30\n",
      "\u001b[1m1455/1455\u001b[0m \u001b[32m━━━━━━━━━━━━━━━━━━━━\u001b[0m\u001b[37m\u001b[0m \u001b[1m1s\u001b[0m 819us/step - loss: 0.1100\n",
      "Epoch 9/30\n",
      "\u001b[1m1455/1455\u001b[0m \u001b[32m━━━━━━━━━━━━━━━━━━━━\u001b[0m\u001b[37m\u001b[0m \u001b[1m1s\u001b[0m 839us/step - loss: 0.1094\n",
      "Epoch 10/30\n",
      "\u001b[1m1455/1455\u001b[0m \u001b[32m━━━━━━━━━━━━━━━━━━━━\u001b[0m\u001b[37m\u001b[0m \u001b[1m1s\u001b[0m 840us/step - loss: 0.1086\n",
      "Epoch 11/30\n",
      "\u001b[1m1455/1455\u001b[0m \u001b[32m━━━━━━━━━━━━━━━━━━━━\u001b[0m\u001b[37m\u001b[0m \u001b[1m1s\u001b[0m 849us/step - loss: 0.1074\n",
      "Epoch 12/30\n",
      "\u001b[1m1455/1455\u001b[0m \u001b[32m━━━━━━━━━━━━━━━━━━━━\u001b[0m\u001b[37m\u001b[0m \u001b[1m1s\u001b[0m 837us/step - loss: 0.1063\n",
      "Epoch 13/30\n",
      "\u001b[1m1455/1455\u001b[0m \u001b[32m━━━━━━━━━━━━━━━━━━━━\u001b[0m\u001b[37m\u001b[0m \u001b[1m1s\u001b[0m 902us/step - loss: 0.1056\n",
      "Epoch 14/30\n",
      "\u001b[1m1455/1455\u001b[0m \u001b[32m━━━━━━━━━━━━━━━━━━━━\u001b[0m\u001b[37m\u001b[0m \u001b[1m1s\u001b[0m 830us/step - loss: 0.1050\n",
      "Epoch 15/30\n",
      "\u001b[1m1455/1455\u001b[0m \u001b[32m━━━━━━━━━━━━━━━━━━━━\u001b[0m\u001b[37m\u001b[0m \u001b[1m1s\u001b[0m 855us/step - loss: 0.1043\n",
      "Epoch 16/30\n",
      "\u001b[1m1455/1455\u001b[0m \u001b[32m━━━━━━━━━━━━━━━━━━━━\u001b[0m\u001b[37m\u001b[0m \u001b[1m1s\u001b[0m 839us/step - loss: 0.1037\n",
      "Epoch 17/30\n",
      "\u001b[1m1455/1455\u001b[0m \u001b[32m━━━━━━━━━━━━━━━━━━━━\u001b[0m\u001b[37m\u001b[0m \u001b[1m1s\u001b[0m 846us/step - loss: 0.1030\n",
      "Epoch 18/30\n",
      "\u001b[1m1455/1455\u001b[0m \u001b[32m━━━━━━━━━━━━━━━━━━━━\u001b[0m\u001b[37m\u001b[0m \u001b[1m1s\u001b[0m 848us/step - loss: 0.1025\n",
      "Epoch 19/30\n",
      "\u001b[1m1455/1455\u001b[0m \u001b[32m━━━━━━━━━━━━━━━━━━━━\u001b[0m\u001b[37m\u001b[0m \u001b[1m1s\u001b[0m 854us/step - loss: 0.1019\n",
      "Epoch 20/30\n",
      "\u001b[1m1455/1455\u001b[0m \u001b[32m━━━━━━━━━━━━━━━━━━━━\u001b[0m\u001b[37m\u001b[0m \u001b[1m1s\u001b[0m 841us/step - loss: 0.1015\n",
      "Epoch 21/30\n",
      "\u001b[1m1455/1455\u001b[0m \u001b[32m━━━━━━━━━━━━━━━━━━━━\u001b[0m\u001b[37m\u001b[0m \u001b[1m1s\u001b[0m 856us/step - loss: 0.1011\n",
      "Epoch 22/30\n",
      "\u001b[1m1455/1455\u001b[0m \u001b[32m━━━━━━━━━━━━━━━━━━━━\u001b[0m\u001b[37m\u001b[0m \u001b[1m1s\u001b[0m 851us/step - loss: 0.1007\n",
      "Epoch 23/30\n",
      "\u001b[1m1455/1455\u001b[0m \u001b[32m━━━━━━━━━━━━━━━━━━━━\u001b[0m\u001b[37m\u001b[0m \u001b[1m1s\u001b[0m 864us/step - loss: 0.1002\n",
      "Epoch 24/30\n",
      "\u001b[1m1455/1455\u001b[0m \u001b[32m━━━━━━━━━━━━━━━━━━━━\u001b[0m\u001b[37m\u001b[0m \u001b[1m1s\u001b[0m 859us/step - loss: 0.0999\n",
      "Epoch 25/30\n",
      "\u001b[1m1455/1455\u001b[0m \u001b[32m━━━━━━━━━━━━━━━━━━━━\u001b[0m\u001b[37m\u001b[0m \u001b[1m1s\u001b[0m 845us/step - loss: 0.0996\n",
      "Epoch 26/30\n",
      "\u001b[1m1455/1455\u001b[0m \u001b[32m━━━━━━━━━━━━━━━━━━━━\u001b[0m\u001b[37m\u001b[0m \u001b[1m1s\u001b[0m 842us/step - loss: 0.0993\n",
      "Epoch 27/30\n",
      "\u001b[1m1455/1455\u001b[0m \u001b[32m━━━━━━━━━━━━━━━━━━━━\u001b[0m\u001b[37m\u001b[0m \u001b[1m1s\u001b[0m 930us/step - loss: 0.0988\n",
      "Epoch 28/30\n",
      "\u001b[1m1455/1455\u001b[0m \u001b[32m━━━━━━━━━━━━━━━━━━━━\u001b[0m\u001b[37m\u001b[0m \u001b[1m1s\u001b[0m 844us/step - loss: 0.0985\n",
      "Epoch 29/30\n",
      "\u001b[1m1455/1455\u001b[0m \u001b[32m━━━━━━━━━━━━━━━━━━━━\u001b[0m\u001b[37m\u001b[0m \u001b[1m1s\u001b[0m 856us/step - loss: 0.0982\n",
      "Epoch 30/30\n",
      "\u001b[1m1455/1455\u001b[0m \u001b[32m━━━━━━━━━━━━━━━━━━━━\u001b[0m\u001b[37m\u001b[0m \u001b[1m1s\u001b[0m 865us/step - loss: 0.0979\n",
      "evaluate:\n",
      "\u001b[1m364/364\u001b[0m \u001b[32m━━━━━━━━━━━━━━━━━━━━\u001b[0m\u001b[37m\u001b[0m \u001b[1m0s\u001b[0m 527us/step - loss: 0.1072\n"
     ]
    },
    {
     "data": {
      "text/plain": [
       "0.10718576610088348"
      ]
     },
     "execution_count": 5,
     "metadata": {},
     "output_type": "execute_result"
    }
   ],
   "source": [
    "outputSize = 32\n",
    "tf.random.set_seed(1)\n",
    "userNN = Sequential([\n",
    "    Dense(256, activation = \"relu\"),\n",
    "    Dense(128, activation = \"relu\"),\n",
    "    Dense(outputSize),\n",
    "    Lambda(lambda x: tf.keras.backend.l2_normalize(x, axis = 1)),\n",
    "])\n",
    "\n",
    "itemNN = Sequential([\n",
    "    Dense(256, activation = \"relu\"),\n",
    "    Dense(128, activation = \"relu\"),\n",
    "    Dense(outputSize),\n",
    "    Lambda(lambda x: tf.keras.backend.l2_normalize(x, axis = 1)),\n",
    "])\n",
    "\n",
    "userNNInput = Input(shape = (userFeatureCount, ))\n",
    "vUser = userNN(userNNInput)\n",
    "\n",
    "itemNNInput = Input(shape = (itemFeatureCount, ))\n",
    "vItem = itemNN(itemNNInput)\n",
    "\n",
    "output = Dot(axes = 1)([vUser, vItem])\n",
    "\n",
    "model = tf.keras.Model([userNNInput, itemNNInput], output)\n",
    "model.compile(optimizer = Adam(0.01),\n",
    "              loss = MeanSquaredError())\n",
    "xTrain = [userTrain[:, userFeatureStartIdx:], itemTrain[:, itemFeatureStartIdx:]]\n",
    "model.fit(xTrain, yTrain, epochs = 30)\n",
    "print(f\"evaluate:\")\n",
    "model.evaluate([userValid[:, userFeatureStartIdx:], itemValid[:, itemFeatureStartIdx:]], yValid)"
   ]
  },
  {
   "cell_type": "markdown",
   "id": "dd1df97a-da11-418c-b05f-0bf4bb7f6e8a",
   "metadata": {},
   "source": [
    "注意: 評分範圍是0.5 ~ 5，以0.5為單位。"
   ]
  },
  {
   "cell_type": "code",
   "execution_count": 6,
   "id": "6e146160-848c-4478-99b6-3a9ade802dc6",
   "metadata": {},
   "outputs": [],
   "source": [
    "newUserID = 5000\n",
    "newRatingAve = 1.0\n",
    "newAction = 1.0\n",
    "newAdventure = 5.0 #\n",
    "newAnimation = 1.0\n",
    "newChildrens = 1.0\n",
    "newComedy = 1.0\n",
    "newCrime = 1.0\n",
    "newDocumentary = 1.0\n",
    "newDrama = 1.0\n",
    "newFantasy = 5.0 #\n",
    "newHorror = 1.0\n",
    "newMystery = 1.0\n",
    "newRomance = 1.0\n",
    "newScifi = 1.0\n",
    "newThriller = 1.0\n",
    "newRatingCount = 3\n",
    "\n",
    "newUser = np.array([[newUserID, newRatingCount, newRatingAve,\n",
    "                      newAction, newAdventure, newAnimation, newChildrens,\n",
    "                      newComedy, newCrime, newDocumentary,\n",
    "                      newDrama, newFantasy, newHorror, newMystery,\n",
    "                      newRomance, newScifi, newThriller]])"
   ]
  },
  {
   "cell_type": "code",
   "execution_count": 7,
   "id": "0a2eff56-73a6-4d23-8bdb-fe0ff40d4b15",
   "metadata": {},
   "outputs": [
    {
     "name": "stdout",
     "output_type": "stream",
     "text": [
      "\u001b[1m59/59\u001b[0m \u001b[32m━━━━━━━━━━━━━━━━━━━━\u001b[0m\u001b[37m\u001b[0m \u001b[1m0s\u001b[0m 2ms/step\n",
      "recommended top 5 movies:\n",
      "rating: 4.46, itemID: 5952, name: Lord of the Rings: The Two Towers, The (2002), label: Adventure|Fantasy\n",
      "rating: 4.43, itemID: 4993, name: Lord of the Rings: The Fellowship of the Ring, The (2001), label: Adventure|Fantasy\n",
      "rating: 4.41, itemID: 4993, name: Lord of the Rings: The Fellowship of the Ring, The (2001), label: Adventure|Fantasy\n",
      "rating: 4.41, itemID: 6016, name: City of God (Cidade de Deus) (2002), label: Action|Adventure|Crime|Drama|Thriller\n",
      "rating: 4.40, itemID: 7153, name: Lord of the Rings: The Return of the King, The (2003), label: Action|Adventure|Drama|Fantasy\n"
     ]
    }
   ],
   "source": [
    "newUserPeritems = np.tile(newUser, (len(itemList), 1))\n",
    "newUserPeritems = scalerUser.transform(newUserPeritems)\n",
    "\n",
    "items = scalerItem.transform(itemList)\n",
    "\n",
    "pred = model.predict([newUserPeritems[:, userFeatureStartIdx:], items[:, itemFeatureStartIdx:]])\n",
    "pred = scalerTarget.inverse_transform(pred)\n",
    "\n",
    "sortedIndex = np.argsort(-pred, axis = 0).reshape(-1).tolist()\n",
    "sortedPreds = pred[sortedIndex]\n",
    "sortedItems = itemList[sortedIndex]\n",
    "\n",
    "recommendedList = np.c_[sortedPreds, sortedItems[:, 0]][:5]\n",
    "print(f\"recommended top {len(recommendedList)} movies:\")\n",
    "for i in range(len(recommendedList)):\n",
    "    itemID = recommendedList[i, 1]\n",
    "    print(f\"rating: {recommendedList[i, 0]:0.2f}, itemID: {itemID:0.0f}, name: {movieInfos[itemID]['title']}, label: {movieInfos[itemID]['genres']}\")"
   ]
  },
  {
   "cell_type": "code",
   "execution_count": 8,
   "id": "66be2612-4e86-4478-9378-f2fb70ac182a",
   "metadata": {},
   "outputs": [
    {
     "name": "stdout",
     "output_type": "stream",
     "text": [
      "\u001b[1m59/59\u001b[0m \u001b[32m━━━━━━━━━━━━━━━━━━━━\u001b[0m\u001b[37m\u001b[0m \u001b[1m0s\u001b[0m 716us/step\n",
      "recommended top 5 movies:\n",
      "rating: 0.00, pred rating: 4.46, itemID: 168252, name: Logan (2017), label: Action|Sci-Fi\n",
      "rating: 0.00, pred rating: 4.43, itemID: 122926, name: Untitled Spider-Man Reboot (2017), label: Action|Adventure|Fantasy\n",
      "rating: 0.00, pred rating: 4.41, itemID: 114935, name: Predestination (2014), label: Action|Mystery|Sci-Fi|Thriller\n",
      "rating: 0.00, pred rating: 4.41, itemID: 122926, name: Untitled Spider-Man Reboot (2017), label: Action|Adventure|Fantasy\n",
      "rating: 0.00, pred rating: 4.40, itemID: 122916, name: Thor: Ragnarok (2017), label: Action|Adventure|Sci-Fi\n"
     ]
    }
   ],
   "source": [
    "def getRating(userID):\n",
    "    itemCount = len(itemList)\n",
    "    ratingList = np.zeros(itemCount)\n",
    "    for i in range(itemCount): \n",
    "        itemID = itemList[i, 0]\n",
    "        if itemID in userToGenre[userID]['movies']:\n",
    "            rating = userToGenre[userID]['movies'][itemID]\n",
    "        else:\n",
    "            rating = 0\n",
    "        ratingList[i] = rating\n",
    "    return ratingList\n",
    "    \n",
    "user = userList[0]\n",
    "userPeritems = np.tile(user, (len(itemList), 1))\n",
    "userPeritems = scalerUser.transform(userPeritems)\n",
    "\n",
    "items = scalerItem.transform(itemList)\n",
    "\n",
    "ratingList = getRating(user[0])\n",
    "\n",
    "pred = model.predict([userPeritems[:, userFeatureStartIdx:], items[:, itemFeatureStartIdx:]])\n",
    "pred = scalerTarget.inverse_transform(pred)\n",
    "\n",
    "sortedIndex = np.argsort(-pred, axis = 0).reshape(-1).tolist() \n",
    "sortedPred = pred[sortedIndex]\n",
    "sortedItems = itemList[sortedIndex]\n",
    "sortedUser = userPeritems[sortedIndex]\n",
    "sortedRatingList = ratingList[sortedIndex]\n",
    "\n",
    "recommendedList = np.c_[sortedRatingList, sortedPreds, sortedItems[:, 0]][:5]\n",
    "print(f\"recommended top {len(recommendedList)} movies:\")\n",
    "for i in range(len(recommendedList)):\n",
    "    itemID = recommendedList[i, 2]\n",
    "    print(f\"rating: {recommendedList[i, 0]:0.2f}, pred rating: {recommendedList[i, 1]:0.2f}, itemID: {itemID:0.0f}, name: {movieInfos[itemID]['title']}, label: {movieInfos[itemID]['genres']}\")"
   ]
  },
  {
   "cell_type": "code",
   "execution_count": 9,
   "id": "774cbe77-ea27-451d-bfea-389c3d460959",
   "metadata": {},
   "outputs": [
    {
     "data": {
      "text/html": [
       "<pre style=\"white-space:pre;overflow-x:auto;line-height:normal;font-family:Menlo,'DejaVu Sans Mono',consolas,'Courier New',monospace\"><span style=\"font-weight: bold\">Model: \"functional_3\"</span>\n",
       "</pre>\n"
      ],
      "text/plain": [
       "\u001b[1mModel: \"functional_3\"\u001b[0m\n"
      ]
     },
     "metadata": {},
     "output_type": "display_data"
    },
    {
     "data": {
      "text/html": [
       "<pre style=\"white-space:pre;overflow-x:auto;line-height:normal;font-family:Menlo,'DejaVu Sans Mono',consolas,'Courier New',monospace\">┏━━━━━━━━━━━━━━━━━━━━━━━━━━━━━━━━━━━━━━┳━━━━━━━━━━━━━━━━━━━━━━━━━━━━━┳━━━━━━━━━━━━━━━━━┓\n",
       "┃<span style=\"font-weight: bold\"> Layer (type)                         </span>┃<span style=\"font-weight: bold\"> Output Shape                </span>┃<span style=\"font-weight: bold\">         Param # </span>┃\n",
       "┡━━━━━━━━━━━━━━━━━━━━━━━━━━━━━━━━━━━━━━╇━━━━━━━━━━━━━━━━━━━━━━━━━━━━━╇━━━━━━━━━━━━━━━━━┩\n",
       "│ input_layer_4 (<span style=\"color: #0087ff; text-decoration-color: #0087ff\">InputLayer</span>)           │ (<span style=\"color: #00d7ff; text-decoration-color: #00d7ff\">None</span>, <span style=\"color: #00af00; text-decoration-color: #00af00\">16</span>)                  │               <span style=\"color: #00af00; text-decoration-color: #00af00\">0</span> │\n",
       "├──────────────────────────────────────┼─────────────────────────────┼─────────────────┤\n",
       "│ sequential_1 (<span style=\"color: #0087ff; text-decoration-color: #0087ff\">Sequential</span>)            │ (<span style=\"color: #00d7ff; text-decoration-color: #00d7ff\">None</span>, <span style=\"color: #00af00; text-decoration-color: #00af00\">32</span>)                  │          <span style=\"color: #00af00; text-decoration-color: #00af00\">41,376</span> │\n",
       "├──────────────────────────────────────┼─────────────────────────────┼─────────────────┤\n",
       "│ lambda_2 (<span style=\"color: #0087ff; text-decoration-color: #0087ff\">Lambda</span>)                    │ (<span style=\"color: #00d7ff; text-decoration-color: #00d7ff\">None</span>, <span style=\"color: #00af00; text-decoration-color: #00af00\">32</span>)                  │               <span style=\"color: #00af00; text-decoration-color: #00af00\">0</span> │\n",
       "└──────────────────────────────────────┴─────────────────────────────┴─────────────────┘\n",
       "</pre>\n"
      ],
      "text/plain": [
       "┏━━━━━━━━━━━━━━━━━━━━━━━━━━━━━━━━━━━━━━┳━━━━━━━━━━━━━━━━━━━━━━━━━━━━━┳━━━━━━━━━━━━━━━━━┓\n",
       "┃\u001b[1m \u001b[0m\u001b[1mLayer (type)                        \u001b[0m\u001b[1m \u001b[0m┃\u001b[1m \u001b[0m\u001b[1mOutput Shape               \u001b[0m\u001b[1m \u001b[0m┃\u001b[1m \u001b[0m\u001b[1m        Param #\u001b[0m\u001b[1m \u001b[0m┃\n",
       "┡━━━━━━━━━━━━━━━━━━━━━━━━━━━━━━━━━━━━━━╇━━━━━━━━━━━━━━━━━━━━━━━━━━━━━╇━━━━━━━━━━━━━━━━━┩\n",
       "│ input_layer_4 (\u001b[38;5;33mInputLayer\u001b[0m)           │ (\u001b[38;5;45mNone\u001b[0m, \u001b[38;5;34m16\u001b[0m)                  │               \u001b[38;5;34m0\u001b[0m │\n",
       "├──────────────────────────────────────┼─────────────────────────────┼─────────────────┤\n",
       "│ sequential_1 (\u001b[38;5;33mSequential\u001b[0m)            │ (\u001b[38;5;45mNone\u001b[0m, \u001b[38;5;34m32\u001b[0m)                  │          \u001b[38;5;34m41,376\u001b[0m │\n",
       "├──────────────────────────────────────┼─────────────────────────────┼─────────────────┤\n",
       "│ lambda_2 (\u001b[38;5;33mLambda\u001b[0m)                    │ (\u001b[38;5;45mNone\u001b[0m, \u001b[38;5;34m32\u001b[0m)                  │               \u001b[38;5;34m0\u001b[0m │\n",
       "└──────────────────────────────────────┴─────────────────────────────┴─────────────────┘\n"
      ]
     },
     "metadata": {},
     "output_type": "display_data"
    },
    {
     "data": {
      "text/html": [
       "<pre style=\"white-space:pre;overflow-x:auto;line-height:normal;font-family:Menlo,'DejaVu Sans Mono',consolas,'Courier New',monospace\"><span style=\"font-weight: bold\"> Total params: </span><span style=\"color: #00af00; text-decoration-color: #00af00\">41,376</span> (161.62 KB)\n",
       "</pre>\n"
      ],
      "text/plain": [
       "\u001b[1m Total params: \u001b[0m\u001b[38;5;34m41,376\u001b[0m (161.62 KB)\n"
      ]
     },
     "metadata": {},
     "output_type": "display_data"
    },
    {
     "data": {
      "text/html": [
       "<pre style=\"white-space:pre;overflow-x:auto;line-height:normal;font-family:Menlo,'DejaVu Sans Mono',consolas,'Courier New',monospace\"><span style=\"font-weight: bold\"> Trainable params: </span><span style=\"color: #00af00; text-decoration-color: #00af00\">41,376</span> (161.62 KB)\n",
       "</pre>\n"
      ],
      "text/plain": [
       "\u001b[1m Trainable params: \u001b[0m\u001b[38;5;34m41,376\u001b[0m (161.62 KB)\n"
      ]
     },
     "metadata": {},
     "output_type": "display_data"
    },
    {
     "data": {
      "text/html": [
       "<pre style=\"white-space:pre;overflow-x:auto;line-height:normal;font-family:Menlo,'DejaVu Sans Mono',consolas,'Courier New',monospace\"><span style=\"font-weight: bold\"> Non-trainable params: </span><span style=\"color: #00af00; text-decoration-color: #00af00\">0</span> (0.00 B)\n",
       "</pre>\n"
      ],
      "text/plain": [
       "\u001b[1m Non-trainable params: \u001b[0m\u001b[38;5;34m0\u001b[0m (0.00 B)\n"
      ]
     },
     "metadata": {},
     "output_type": "display_data"
    }
   ],
   "source": [
    "itemNNInput = Input(shape = (itemFeatureCount, ))  \n",
    "itemNN = itemNN(itemNNInput)                                       \n",
    "itemNN = Lambda(lambda x: tf.keras.backend.l2_normalize(x, axis = 1))(itemNN)\n",
    "itemNN = tf.keras.Model(itemNNInput, itemNN)                                \n",
    "itemNN.summary()"
   ]
  },
  {
   "cell_type": "code",
   "execution_count": 10,
   "id": "6f56bc13-ba4d-4732-9f8e-b4bf59bf6a76",
   "metadata": {},
   "outputs": [
    {
     "name": "stdout",
     "output_type": "stream",
     "text": [
      "\u001b[1m59/59\u001b[0m \u001b[32m━━━━━━━━━━━━━━━━━━━━\u001b[0m\u001b[37m\u001b[0m \u001b[1m0s\u001b[0m 1ms/step\n",
      "size of all predicted movie feature vectors: (1883, 32)\n"
     ]
    }
   ],
   "source": [
    "items = scalerItem.transform(itemList)\n",
    "itemVecs = itemNN.predict(items[:, itemFeatureStartIdx:])\n",
    "print(f\"size of all predicted movie feature vectors: {itemVecs.shape}\")"
   ]
  },
  {
   "cell_type": "code",
   "execution_count": 11,
   "id": "d4b3f480-3d3d-40bf-9850-b524c93d251a",
   "metadata": {},
   "outputs": [
    {
     "name": "stdout",
     "output_type": "stream",
     "text": [
      "4054[Drama|Romance] is similar to 5108[Crime|Drama|Thriller]\n",
      "4054[Drama|Romance] is similar to 5296[Comedy|Romance]\n",
      "4069[Comedy|Romance] is similar to 5449[Comedy|Romance]\n",
      "4069[Comedy|Romance] is similar to 5449[Comedy|Romance]\n",
      "4148[Horror|Thriller] is similar to 6058[Horror|Thriller]\n",
      "4148[Horror|Thriller] is similar to 5400[Drama|Thriller]\n",
      "4149[Comedy|Romance] is similar to 4386[Children|Comedy]\n",
      "4149[Comedy|Romance] is similar to 4054[Drama|Romance]\n",
      "4153[Comedy|Fantasy|Romance] is similar to 4247[Adventure|Comedy|Mystery|Romance]\n",
      "4153[Comedy|Fantasy|Romance] is similar to 6958[Children|Comedy|Fantasy|Horror]\n"
     ]
    }
   ],
   "source": [
    "itemCount = len(items)\n",
    "disMatrix = np.sqrt(np.sum((itemVecs[:, np.newaxis, :] - itemVecs[np.newaxis, :, :]) ** 2, axis = 2))\n",
    "maskedDisMatrix = np.ma.masked_array(disMatrix, mask = np.identity(itemCount)) \n",
    "\n",
    "for i in range(10):\n",
    "    idx = np.argmin(maskedDisMatrix[i])\n",
    "    movie1 = int(itemList[i, 0])\n",
    "    movie2 = int(itemList[idx, 0])\n",
    "    movieStr1 = f\"{movie1}[{movieInfos[movie1]['genres']}]\"\n",
    "    movieStr2 = f\"{movie2}[{movieInfos[movie2]['genres']}]\"\n",
    "    print(f\"{movieStr1} is similar to {movieStr2}\")"
   ]
  }
 ],
 "metadata": {
  "kernelspec": {
   "display_name": "Python 3 (ipykernel)",
   "language": "python",
   "name": "python3"
  },
  "language_info": {
   "codemirror_mode": {
    "name": "ipython",
    "version": 3
   },
   "file_extension": ".py",
   "mimetype": "text/x-python",
   "name": "python",
   "nbconvert_exporter": "python",
   "pygments_lexer": "ipython3",
   "version": "3.12.4"
  }
 },
 "nbformat": 4,
 "nbformat_minor": 5
}
