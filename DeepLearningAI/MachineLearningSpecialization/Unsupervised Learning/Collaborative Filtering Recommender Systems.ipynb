{
 "cells": [
  {
   "cell_type": "code",
   "execution_count": 1,
   "id": "f8195b8c-94f3-475c-b6d7-1a9e592f3425",
   "metadata": {},
   "outputs": [],
   "source": [
    "import numpy as np\n",
    "import tensorflow as tf\n",
    "from tensorflow import keras"
   ]
  },
  {
   "cell_type": "code",
   "execution_count": 2,
   "id": "75e9bf05-5264-4cec-bf61-b1093b4a1ced",
   "metadata": {},
   "outputs": [],
   "source": [
    "def load_precalc_params_small():\n",
    "\n",
    "    file = open('./data/small_movies_X.csv', 'rb')\n",
    "    X = np.loadtxt(file, delimiter = \",\")\n",
    "\n",
    "    file = open('./data/small_movies_W.csv', 'rb')\n",
    "    W = np.loadtxt(file,delimiter = \",\")\n",
    "\n",
    "    file = open('./data/small_movies_b.csv', 'rb')\n",
    "    b = np.loadtxt(file,delimiter = \",\")\n",
    "    b = b.reshape(1,-1)\n",
    "    num_movies, num_features = X.shape\n",
    "    num_users,_ = W.shape\n",
    "    return(X, W, b, num_movies, num_features, num_users)\n",
    "    \n",
    "def load_ratings_small():\n",
    "    file = open('./data/small_movies_Y.csv', 'rb')\n",
    "    Y = np.loadtxt(file,delimiter = \",\")\n",
    "\n",
    "    file = open('./data/small_movies_R.csv', 'rb')\n",
    "    R = np.loadtxt(file,delimiter = \",\")\n",
    "    return(Y,R)"
   ]
  },
  {
   "cell_type": "code",
   "execution_count": 3,
   "id": "73c42be0-492f-4ad3-8a40-a844a0b2f74a",
   "metadata": {},
   "outputs": [
    {
     "name": "stdout",
     "output_type": "stream",
     "text": [
      "movieCount: 4778, featureCount: 10, userCount: 443\n",
      "x.shape: (4778, 10)\n",
      "w.shape: (443, 10)\n",
      "b.shape: (1, 443)\n",
      "y.shape: (4778, 443)\n",
      "r.shape: (4778, 443)\n"
     ]
    }
   ],
   "source": [
    "x, w, b, movieCount, featureCount, userCount = load_precalc_params_small()\n",
    "y, r = load_ratings_small()\n",
    "\n",
    "print(f\"movieCount: {movieCount}, featureCount: {featureCount}, userCount: {userCount}\")\n",
    "print(f\"x.shape: {x.shape}\")\n",
    "print(f\"w.shape: {w.shape}\")\n",
    "print(f\"b.shape: {b.shape}\")\n",
    "print(f\"y.shape: {y.shape}\")\n",
    "print(f\"r.shape: {r.shape}\")"
   ]
  },
  {
   "cell_type": "markdown",
   "id": "91326d31-cf68-463d-b69b-b66a1be9afa1",
   "metadata": {},
   "source": [
    "### Collaborative filtering cost function\n",
    "\n",
    "$$J({\\mathbf{x}^{(0)},...,\\mathbf{x}^{(n_m-1)},\\mathbf{w}^{(0)},b^{(0)},...,\\mathbf{w}^{(n_u-1)},b^{(n_u-1)}})= \\left[ \\frac{1}{2}\\sum_{(i,j):r(i,j)=1}(\\mathbf{w}^{(j)} \\cdot \\mathbf{x}^{(i)} + b^{(j)} - y^{(i,j)})^2 \\right]\n",
    "+ \\underbrace{\\left[\n",
    "\\frac{\\lambda}{2}\n",
    "\\sum_{j=0}^{n_u-1}\\sum_{k=0}^{n-1}(\\mathbf{w}^{(j)}_k)^2\n",
    "+ \\frac{\\lambda}{2}\\sum_{i=0}^{n_m-1}\\sum_{k=0}^{n-1}(\\mathbf{x}_k^{(i)})^2\n",
    "\\right]}_{regularization}\n",
    "\\tag{1}$$\n",
    "如果有評論的話 $r$ 會標記 $1$，因此可以改寫為 \"對於所有 $i$, $j$ 的 $r(i,j)$ 等於 $1$\" :\n",
    "\n",
    "$$\n",
    "= \\left[ \\frac{1}{2}\\sum_{j=0}^{n_u-1} \\sum_{i=0}^{n_m-1}r(i,j)*(\\mathbf{w}^{(j)} \\cdot \\mathbf{x}^{(i)} + b^{(j)} - y^{(i,j)})^2 \\right]\n",
    "+\\text{regularization}\n",
    "$$"
   ]
  },
  {
   "cell_type": "code",
   "execution_count": 4,
   "id": "5b12bcd2-8e59-4bd4-ac20-dfd3c21bbf84",
   "metadata": {},
   "outputs": [],
   "source": [
    "def computeCost(x, y, w, b, r, lambda_):\n",
    "    cost = (tf.linalg.matmul(x, tf.transpose(w)) + b - y) * r\n",
    "    cost = 0.5 * (tf.reduce_sum(cost ** 2) + lambda_ * (tf.reduce_sum(w ** 2) + tf.reduce_sum(x ** 2)))\n",
    "    return cost"
   ]
  },
  {
   "cell_type": "code",
   "execution_count": 5,
   "id": "733c6fbe-a680-4048-a269-11d3127ec412",
   "metadata": {},
   "outputs": [],
   "source": [
    "myRatings = np.zeros(movieCount)        \n",
    "\n",
    "myRatings[2700] = 5 \n",
    "myRatings[2609] = 2\n",
    "myRatings[929]  = 5   \n",
    "myRatings[246]  = 5   \n",
    "myRatings[2716] = 3   \n",
    "myRatings[1150] = 5   \n",
    "myRatings[382]  = 2   \n",
    "myRatings[366]  = 5  \n",
    "myRatings[622]  = 5  \n",
    "myRatings[988]  = 3   \n",
    "myRatings[2925] = 1   \n",
    "myRatings[2937] = 1   \n",
    "myRatings[793]  = 5   \n",
    "\n",
    "myRated = np.where(myRatings > 0, 1 ,0)"
   ]
  },
  {
   "cell_type": "code",
   "execution_count": 6,
   "id": "c6059620-ba47-429f-8d02-1031db6f6778",
   "metadata": {},
   "outputs": [],
   "source": [
    "y = np.c_[myRatings, y]\n",
    "r = np.c_[myRated, r]\n",
    "\n",
    "yMean = (np.sum(y, axis = 1) / np.sum(r, axis = 1)).reshape(-1, 1)\n",
    "yNorm = y - yMean * r"
   ]
  },
  {
   "cell_type": "code",
   "execution_count": 7,
   "id": "b9fcbb72-750e-4c9f-8626-1cb718fefd80",
   "metadata": {},
   "outputs": [],
   "source": [
    "movieCount, userCount = y.shape\n",
    "featureCount = 100\n",
    "\n",
    "tf.random.set_seed(1234)\n",
    "w = tf.Variable(tf.random.normal((userCount,  featureCount), dtype = tf.float64),  name='w')\n",
    "x = tf.Variable(tf.random.normal((movieCount, featureCount), dtype = tf.float64),  name='x')\n",
    "b = tf.Variable(tf.random.normal((1,          userCount),    dtype = tf.float64),  name='b')\n",
    "\n",
    "optimizer = keras.optimizers.Adam(1e-1)"
   ]
  },
  {
   "cell_type": "code",
   "execution_count": 8,
   "id": "5c5c8022-3404-4e68-8784-1673216889b2",
   "metadata": {},
   "outputs": [
    {
     "name": "stdout",
     "output_type": "stream",
     "text": [
      "Training loss at iteration 0: 2321191.3\n",
      "Training loss at iteration 20: 136169.3\n",
      "Training loss at iteration 40: 51863.7\n",
      "Training loss at iteration 60: 24599.0\n",
      "Training loss at iteration 80: 13630.6\n",
      "Training loss at iteration 100: 8487.7\n",
      "Training loss at iteration 120: 5807.8\n",
      "Training loss at iteration 140: 4311.6\n",
      "Training loss at iteration 160: 3435.3\n",
      "Training loss at iteration 180: 2902.1\n"
     ]
    }
   ],
   "source": [
    "iterCount = 200\n",
    "lambda_ = 1\n",
    "for i in range(iterCount):\n",
    "    with tf.GradientTape() as tape:\n",
    "        cost = computeCost(x, yNorm, w, b, r, lambda_)\n",
    "    grads = tape.gradient(cost, [x, w, b])\n",
    "    optimizer.apply_gradients(zip(grads, [x, w, b]))\n",
    "    if i % (iterCount / 10) == 0:\n",
    "        print(f\"Training loss at iteration {i}: {cost:0.1f}\")"
   ]
  },
  {
   "cell_type": "code",
   "execution_count": 9,
   "id": "42f7504f-ba18-4980-9f04-6b1d858e9242",
   "metadata": {},
   "outputs": [
    {
     "name": "stdout",
     "output_type": "stream",
     "text": [
      "Predicting rating 4.90 for movie 1150\n",
      "Predicting rating 4.90 for movie 246\n",
      "Predicting rating 4.89 for movie 929\n",
      "Predicting rating 4.88 for movie 622\n",
      "Predicting rating 4.87 for movie 793\n",
      "Predicting rating 4.84 for movie 366\n",
      "Predicting rating 4.80 for movie 2700\n",
      "Predicting rating 4.49 for movie 1201\n",
      "Predicting rating 4.48 for movie 549\n",
      "Predicting rating 4.48 for movie 211\n",
      "\n",
      "Original vs Predicted ratings:\n",
      "\n",
      "Original 5.0, Predicted 4.90 for movie 246\n",
      "Original 5.0, Predicted 4.84 for movie 366\n",
      "Original 2.0, Predicted 2.13 for movie 382\n",
      "Original 5.0, Predicted 4.88 for movie 622\n",
      "Original 5.0, Predicted 4.87 for movie 793\n",
      "Original 5.0, Predicted 4.89 for movie 929\n",
      "Original 3.0, Predicted 3.00 for movie 988\n",
      "Original 5.0, Predicted 4.90 for movie 1150\n",
      "Original 2.0, Predicted 2.11 for movie 2609\n",
      "Original 5.0, Predicted 4.80 for movie 2700\n",
      "Original 3.0, Predicted 3.00 for movie 2716\n",
      "Original 1.0, Predicted 1.41 for movie 2925\n",
      "Original 1.0, Predicted 1.26 for movie 2937\n"
     ]
    }
   ],
   "source": [
    "p = np.matmul(x.numpy(), w.numpy().T) + b.numpy() + yMean\n",
    "pred = p[:, 0]\n",
    "\n",
    "ix = tf.argsort(pred, direction = 'DESCENDING')\n",
    "\n",
    "for i in range(10):\n",
    "    j = ix[i]\n",
    "    print(f'Predicting rating {pred[j]:0.2f} for movie {j}')\n",
    "\n",
    "print('\\nOriginal vs Predicted ratings:\\n')\n",
    "for i in range(len(myRated)):\n",
    "    if myRated[i] > 0:\n",
    "        print(f'Original {myRatings[i]}, Predicted {pred[i]:0.2f} for movie {i}')"
   ]
  },
  {
   "cell_type": "code",
   "execution_count": null,
   "id": "9a729a00-565c-4bcb-8293-1a79fe0d0860",
   "metadata": {},
   "outputs": [],
   "source": []
  }
 ],
 "metadata": {
  "kernelspec": {
   "display_name": "Python 3 (ipykernel)",
   "language": "python",
   "name": "python3"
  },
  "language_info": {
   "codemirror_mode": {
    "name": "ipython",
    "version": 3
   },
   "file_extension": ".py",
   "mimetype": "text/x-python",
   "name": "python",
   "nbconvert_exporter": "python",
   "pygments_lexer": "ipython3",
   "version": "3.12.4"
  }
 },
 "nbformat": 4,
 "nbformat_minor": 5
}
