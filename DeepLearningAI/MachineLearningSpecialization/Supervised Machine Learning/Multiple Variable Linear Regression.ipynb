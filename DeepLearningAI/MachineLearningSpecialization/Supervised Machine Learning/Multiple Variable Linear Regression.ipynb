{
 "cells": [
  {
   "cell_type": "code",
   "execution_count": 1,
   "id": "3277bb3a-7591-4638-9a1f-6cc94d8b7a35",
   "metadata": {},
   "outputs": [],
   "source": [
    "import numpy as np\n",
    "import matplotlib.pyplot as plt"
   ]
  },
  {
   "cell_type": "code",
   "execution_count": 2,
   "id": "fa13dba4-39e5-4242-aa79-9c06320325d5",
   "metadata": {},
   "outputs": [],
   "source": [
    "x = np.array([[2104, 5, 1, 45], [1416, 3, 2, 40], [852, 2, 1, 35]])\n",
    "y = np.array([460, 232, 178])\n",
    "w = np.array([ 0.39133535, 18.75376741, -53.36032453, -26.42131618])\n",
    "b = 785.1811367994083"
   ]
  },
  {
   "cell_type": "code",
   "execution_count": 3,
   "id": "f4b153f2-bf99-416e-a8ef-60108dd48309",
   "metadata": {},
   "outputs": [],
   "source": [
    "def model(x, w, b):\n",
    "    return np.matmul(x, w) + b"
   ]
  },
  {
   "cell_type": "code",
   "execution_count": 4,
   "id": "5d0a2599-30d2-467c-801b-f2213acae8c7",
   "metadata": {},
   "outputs": [],
   "source": [
    "def computeCost(x, y, w, b):\n",
    "    pred = model(x, w, b)\n",
    "    return np.mean((pred - y) ** 2) / 2"
   ]
  },
  {
   "cell_type": "code",
   "execution_count": 5,
   "id": "09d5f25f-1bb1-455f-8d06-2774625ba479",
   "metadata": {},
   "outputs": [],
   "source": [
    "def computeGradient(x, y, w, b):\n",
    "    pred = model(x, w, b)\n",
    "    err = pred - y\n",
    "    err = np.expand_dims(err, axis = 1)\n",
    "    gradW = np.mean(err * x, axis = 0)\n",
    "    gradB = np.mean(err)\n",
    "    return gradW, gradB"
   ]
  },
  {
   "cell_type": "code",
   "execution_count": 6,
   "id": "808f1743-1268-447a-8223-5fa03d43facf",
   "metadata": {},
   "outputs": [],
   "source": [
    "def gradientDescent(x, y, w, b, alpha, iterCount):\n",
    "    costs = []\n",
    "    for i in range(iterCount):\n",
    "        gradW, gradB = computeGradient(x, y, w, b)\n",
    "        w = w - alpha * gradW\n",
    "        b = b - alpha * gradB\n",
    "        cost = computeCost(x, y, w, b)\n",
    "        costs.append(cost)\n",
    "        if i % (iterCount / 10) == 0:\n",
    "            print(f\"iter: {i}, cost: {cost:0.2f}\")\n",
    "    return w, b, costs"
   ]
  },
  {
   "cell_type": "code",
   "execution_count": 7,
   "id": "6ef8ed1f-285a-402e-aefa-760b3125a5d1",
   "metadata": {},
   "outputs": [
    {
     "name": "stdout",
     "output_type": "stream",
     "text": [
      "iter: 0, cost: 2529.46\n",
      "iter: 100, cost: 695.99\n",
      "iter: 200, cost: 694.92\n",
      "iter: 300, cost: 693.86\n",
      "iter: 400, cost: 692.81\n",
      "iter: 500, cost: 691.77\n",
      "iter: 600, cost: 690.73\n",
      "iter: 700, cost: 689.71\n",
      "iter: 800, cost: 688.70\n",
      "iter: 900, cost: 687.69\n"
     ]
    }
   ],
   "source": [
    "w = np.zeros_like(w)\n",
    "b = 0\n",
    "iterCount = 1000\n",
    "alpha = 5.0e-7\n",
    "w, b, costs = gradientDescent(x, y, w, b, alpha, iterCount)"
   ]
  },
  {
   "cell_type": "code",
   "execution_count": null,
   "id": "06cbb521-dd2d-4d96-97ea-73817b4fbe4f",
   "metadata": {},
   "outputs": [],
   "source": []
  }
 ],
 "metadata": {
  "kernelspec": {
   "display_name": "Python 3 (ipykernel)",
   "language": "python",
   "name": "python3"
  },
  "language_info": {
   "codemirror_mode": {
    "name": "ipython",
    "version": 3
   },
   "file_extension": ".py",
   "mimetype": "text/x-python",
   "name": "python",
   "nbconvert_exporter": "python",
   "pygments_lexer": "ipython3",
   "version": "3.12.4"
  }
 },
 "nbformat": 4,
 "nbformat_minor": 5
}
