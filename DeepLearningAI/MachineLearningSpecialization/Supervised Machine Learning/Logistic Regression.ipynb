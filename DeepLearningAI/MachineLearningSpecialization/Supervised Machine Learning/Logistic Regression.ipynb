{
 "cells": [
  {
   "cell_type": "markdown",
   "id": "84b12ff1-3ff3-42b8-a094-c5a7a1ca22c7",
   "metadata": {},
   "source": [
    "## Logistic Regression\n",
    "\n",
    "邏輯回歸的數學模型:\n",
    "\n",
    "$$ f_{\\mathbf{w},b}(\\mathbf{x}^{(i)}) = g(\\mathbf{w} \\cdot \\mathbf{x}^{(i)} + b )$$ \n",
    "\n",
    "其中，$g(z)$稱作 Sigmoid 或 Logistic Function\n",
    "\n",
    "$$g(z) = \\frac{1}{1+e^{-z}}\\tag{3}$$"
   ]
  },
  {
   "cell_type": "code",
   "execution_count": 1,
   "id": "f4160008-690b-4121-a4ab-1a2fb12d1412",
   "metadata": {},
   "outputs": [],
   "source": [
    "import numpy as np\n",
    "import matplotlib.pyplot as plt"
   ]
  },
  {
   "cell_type": "code",
   "execution_count": 2,
   "id": "9c109b6b-5b70-4f78-b0fa-8819d7414722",
   "metadata": {},
   "outputs": [],
   "source": [
    "def sigmoid(z):\n",
    "    return 1 / (1 + np.exp(-z))"
   ]
  },
  {
   "cell_type": "code",
   "execution_count": 3,
   "id": "8431ef0d-1500-4c66-9674-68c27272e6a1",
   "metadata": {},
   "outputs": [],
   "source": [
    "def model(x, w, b):\n",
    "    z = np.matmul(x, w) + b\n",
    "    return sigmoid(z)"
   ]
  },
  {
   "cell_type": "markdown",
   "id": "59118cfe-837a-4fe1-9eb8-4c8d3481e4e4",
   "metadata": {},
   "source": [
    "## Logistic Loss Function\n",
    "\n",
    "邏輯回歸的成本(Cost)更適合用損失(Loss)函數計算\n",
    "\n",
    ">定義上:  \n",
    "**Loss** 用來測量單一資料的差異  \n",
    "**Cost** 用來測量整個訓練集的差異\n",
    "\n",
    "定義上: \n",
    "* $loss(f_{\\mathbf{w},b}(\\mathbf{x}^{(i)}), y^{(i)})$ 是單筆資料的損失:\n",
    "\n",
    "\\begin{equation}\n",
    "  loss(f_{\\mathbf{w},b}(\\mathbf{x}^{(i)}), y^{(i)}) = \\begin{cases}\n",
    "    - \\log\\left(f_{\\mathbf{w},b}\\left( \\mathbf{x}^{(i)} \\right) \\right) & \\text{if $y^{(i)}=1$}\\\\\n",
    "    - \\log \\left( 1 - f_{\\mathbf{w},b}\\left( \\mathbf{x}^{(i)} \\right) \\right) & \\text{if $y^{(i)}=0$}\n",
    "  \\end{cases}\n",
    "\\end{equation}\n",
    "\n",
    "\n",
    "*  $f_{\\mathbf{w},b}(\\mathbf{x}^{(i)})$ 是第$i$筆資料的預測，$y^{(i)}$ 是第$i$筆資料的分類，以0，1表示\n",
    "\n",
    "可以簡化計算成\n",
    "    $$loss(f_{\\mathbf{w},b}(\\mathbf{x}^{(i)}), y^{(i)}) = (-y^{(i)} \\log\\left(f_{\\mathbf{w},b}\\left( \\mathbf{x}^{(i)} \\right) \\right) - \\left( 1 - y^{(i)}\\right) \\log \\left( 1 - f_{\\mathbf{w},b}\\left( \\mathbf{x}^{(i)} \\right) \\right)$$"
   ]
  },
  {
   "cell_type": "code",
   "execution_count": 4,
   "id": "f1dd889a-a279-4cd4-b3fa-bf86fe7700d4",
   "metadata": {},
   "outputs": [],
   "source": [
    "def computeCost(x, y, w, b):\n",
    "    pred = model(x, w, b)\n",
    "    loss = - (y * np.log(pred) + (1 - y) * np.log(1 - pred))\n",
    "    return np.mean(loss)"
   ]
  },
  {
   "cell_type": "code",
   "execution_count": 5,
   "id": "d325f889-f5fd-435d-9329-eb0246b36ccc",
   "metadata": {},
   "outputs": [
    {
     "name": "stdout",
     "output_type": "stream",
     "text": [
      "0.36686678640551745\n"
     ]
    }
   ],
   "source": [
    "x = np.array([[0.5, 1.5], [1,1], [1.5, 0.5], [3, 0.5], [2, 2], [1, 2.5]])\n",
    "y = np.array([0, 0, 0, 1, 1, 1])    \n",
    "w = np.array([1,1])\n",
    "b = -3\n",
    "print(computeCost(x, y, w, b))"
   ]
  },
  {
   "cell_type": "markdown",
   "id": "e5109284-fc05-477f-b70b-b58e11eee785",
   "metadata": {},
   "source": [
    "## Logistic Gradient Descent\n",
    "\n",
    "邏輯回歸的梯度下降一樣是:\n",
    "$$\\begin{align*}\n",
    "&\\text{repeat until convergence:} \\; \\lbrace \\\\\n",
    "&  \\; \\; \\;w_j = w_j -  \\alpha \\frac{\\partial J(\\mathbf{w},b)}{\\partial w_j}   \\; & \\text{for j := 0..n-1} \\\\ \n",
    "&  \\; \\; \\;  \\; \\;b = b -  \\alpha \\frac{\\partial J(\\mathbf{w},b)}{\\partial b} \\\\\n",
    "&\\rbrace\n",
    "\\end{align*}$$\n",
    "\n",
    "其中:\n",
    "$$\\begin{align*}\n",
    "\\frac{\\partial J(\\mathbf{w},b)}{\\partial w_j}  &= \\frac{1}{m} \\sum\\limits_{i = 0}^{m-1} (f_{\\mathbf{w},b}(\\mathbf{x}^{(i)}) - y^{(i)})x_{j}^{(i)}  \\\\\n",
    "\\frac{\\partial J(\\mathbf{w},b)}{\\partial b}  &= \\frac{1}{m} \\sum\\limits_{i = 0}^{m-1} (f_{\\mathbf{w},b}(\\mathbf{x}^{(i)}) - y^{(i)})\n",
    "\\end{align*}$$\n",
    "\n",
    "* 唯一的差別是:  \n",
    "    $f_{\\mathbf{w},b}(x) = g(z)$\n",
    "  \n",
    "    $g(z) = \\frac{1}{1+e^{-z}}$\n",
    "  \n",
    "    $z = \\mathbf{w} \\cdot \\mathbf{x} + b$  "
   ]
  },
  {
   "cell_type": "code",
   "execution_count": 6,
   "id": "47ff61fc-fe8c-4011-9eab-63e810b2cb92",
   "metadata": {},
   "outputs": [],
   "source": [
    "def computeGradient(x, y, w, b):\n",
    "    pred = model(x, w, b)\n",
    "    err = model(x, w, b) - y\n",
    "    err = np.expand_dims(err, axis = 1)\n",
    "    gradW = np.mean(err * x, axis = 0)\n",
    "    gradB = np.mean(err)\n",
    "    return gradW, gradB"
   ]
  },
  {
   "cell_type": "code",
   "execution_count": 7,
   "id": "552148da-4d8c-48cd-9f0b-ad75355f657c",
   "metadata": {},
   "outputs": [],
   "source": [
    "def gradientDescent(x, y, w, b, alpha, iterCount):\n",
    "    costs = []\n",
    "    for i in range(iterCount):\n",
    "        gradW, gradB = computeGradient(x, y, w, b)\n",
    "        w = w - alpha * gradW\n",
    "        b = b - alpha * gradB\n",
    "        cost = computeCost(x, y, w, b)\n",
    "        costs.append(cost)\n",
    "        if i % (iterCount / 10) == 0:\n",
    "            print(f\"iter: {i}, cost: {cost:0.5f}\")\n",
    "    return w, b, costs"
   ]
  },
  {
   "cell_type": "code",
   "execution_count": 8,
   "id": "602c7ced-1234-4ed6-8286-8f82c21c1d73",
   "metadata": {},
   "outputs": [
    {
     "name": "stdout",
     "output_type": "stream",
     "text": [
      "iter: 0, cost: 0.68461\n",
      "iter: 1000, cost: 0.15910\n",
      "iter: 2000, cost: 0.08460\n",
      "iter: 3000, cost: 0.05705\n",
      "iter: 4000, cost: 0.04291\n",
      "iter: 5000, cost: 0.03434\n",
      "iter: 6000, cost: 0.02860\n",
      "iter: 7000, cost: 0.02450\n",
      "iter: 8000, cost: 0.02142\n",
      "iter: 9000, cost: 0.01903\n"
     ]
    }
   ],
   "source": [
    "w = np.zeros_like(w)\n",
    "b = 0\n",
    "w, b, _ = gradientDescent(x, y, w, b, 0.1, 10000)"
   ]
  },
  {
   "cell_type": "code",
   "execution_count": 9,
   "id": "89279111-43b4-4dd3-91ed-6f475679b1fb",
   "metadata": {},
   "outputs": [
    {
     "data": {
      "text/plain": [
       "<matplotlib.collections.PathCollection at 0x1b0f57e2c60>"
      ]
     },
     "execution_count": 9,
     "metadata": {},
     "output_type": "execute_result"
    },
    {
     "data": {
      "image/png": "[encoded data removed]",
      "text/plain": [
       "<Figure size 500x400 with 2 Axes>"
      ]
     },
     "metadata": {},
     "output_type": "display_data"
    }
   ],
   "source": [
    "fig, ax = plt.subplots(1, 1, figsize = (5, 4))\n",
    "\n",
    "xSpace0 = np.linspace(0, 4, 100)\n",
    "xSpace1 = np.linspace(0, 4, 100)\n",
    "xx0, xx1 = np.meshgrid(xSpace0, xSpace1)\n",
    "predMatrix = np.zeros_like(xx0)\n",
    "for i in range(len(xSpace0)):\n",
    "    for j in range(len(xSpace1)):\n",
    "        predMatrix[i, j] = model([xx0[i, j], xx1[i, j]], w, b)\n",
    "\n",
    "pcm = ax.pcolormesh(xx0, xx1, predMatrix, cmap = plt.get_cmap('Blues'), shading='nearest', alpha = 0.5)\n",
    "ax.figure.colorbar(pcm, ax = ax)\n",
    "\n",
    "trueIndex = y == 1\n",
    "falseIndex = y == 0\n",
    "ax.scatter(x[trueIndex, 0], x[trueIndex, 1], marker = \"o\", color = \"blue\")\n",
    "ax.scatter(x[falseIndex, 0], x[falseIndex, 1], marker = \"x\", color = \"red\")"
   ]
  },
  {
   "cell_type": "code",
   "execution_count": null,
   "id": "fefcb2b7-3def-4647-b93a-520d1643b0d7",
   "metadata": {},
   "outputs": [],
   "source": []
  }
 ],
 "metadata": {
  "kernelspec": {
   "display_name": "Python 3 (ipykernel)",
   "language": "python",
   "name": "python3"
  },
  "language_info": {
   "codemirror_mode": {
    "name": "ipython",
    "version": 3
   },
   "file_extension": ".py",
   "mimetype": "text/x-python",
   "name": "python",
   "nbconvert_exporter": "python",
   "pygments_lexer": "ipython3",
   "version": "3.12.4"
  }
 },
 "nbformat": 4,
 "nbformat_minor": 5
}
