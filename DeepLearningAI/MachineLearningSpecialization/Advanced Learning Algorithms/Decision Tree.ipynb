{
 "cells": [
  {
   "cell_type": "markdown",
   "id": "0526ea9e-191c-43ac-b124-125f445e09ad",
   "metadata": {},
   "source": [
    "決策樹需要計算 **information gain** \n",
    "\n",
    "$$\\text{Information Gain} = H(p_1^\\text{node})- \\left(w^{\\text{left}}H\\left(p_1^\\text{left}\\right) + w^{\\text{right}}H\\left(p_1^\\text{right}\\right)\\right),$$\n",
    "\n",
    "其中 $H$ 是熵\n",
    "\n",
    "$$H(p_1) = -p_1 \\text{log}_2(p_1) - (1- p_1) \\text{log}_2(1- p_1)$$\n",
    "\n",
    "當$p=0$或$p=1$時熵為0，$p=0.5$時熵為1。\n",
    "\n",
    "熵表示一個事件的可預測程度。"
   ]
  },
  {
   "cell_type": "code",
   "execution_count": 1,
   "id": "af8e8dcd-ed3b-4e3a-89a2-cd662db3215c",
   "metadata": {},
   "outputs": [],
   "source": [
    "import pandas as pd\n",
    "import numpy as np\n",
    "import matplotlib.pyplot as plt"
   ]
  },
  {
   "cell_type": "code",
   "execution_count": 2,
   "id": "ddf9a1d9-ae3d-4d6d-a06f-e2559c5af635",
   "metadata": {},
   "outputs": [],
   "source": [
    "def computeEntropy(y):\n",
    "    if len(y) == 0:\n",
    "        return 0\n",
    "        \n",
    "    p = sum(y) / len(y)\n",
    "    \n",
    "    if p == 0 or p == 1:\n",
    "        return 0\n",
    "    return -p * np.log2(p) - (1 - p) * np.log2(1 - p)\n",
    "\n",
    "def computeWeightedEntropy(x, y, leftIdx, rightIdx):\n",
    "    leftW = len(leftIdx) / len(x)\n",
    "    rightW = len(rightIdx) / len(x)\n",
    "    leftH = computeEntropy(y[leftIdx])\n",
    "    rightH = computeEntropy(y[rightIdx])\n",
    "    return leftW * leftH + rightW * rightH\n",
    "\n",
    "def computeInformationGain(x, y, leftIdx, rightIdx):\n",
    "    rootH = computeEntropy(y)\n",
    "    childH = computeWeightedEntropy(x, y, leftIdx, rightIdx)\n",
    "    return rootH - childH"
   ]
  },
  {
   "cell_type": "code",
   "execution_count": 3,
   "id": "5cdd2467-cff6-48f2-b3e3-869b82621adb",
   "metadata": {},
   "outputs": [],
   "source": [
    "def splitByFeature(x, feature):\n",
    "    left = np.where(x[:, feature] == 1)[0]\n",
    "    right = np.where(x[:, feature] == 0)[0]\n",
    "    return left, right\n",
    "\n",
    "def buildDecisionTree(x, y, featureSize, tree, maxDepth, currDepth):\n",
    "    if maxDepth <= currDepth or len(x) <= 0:\n",
    "        return\n",
    "    \n",
    "    maxIG = 0\n",
    "    bestFeature = 0\n",
    "    for i in range(featureSize):\n",
    "        left, right = splitByFeature(x, i)\n",
    "        ig = computeInformationGain(x, y, left, right)\n",
    "        if ig >= maxIG:\n",
    "            maxIG = ig\n",
    "            bestFeature = i\n",
    "\n",
    "    tree.append((currDepth, bestFeature))\n",
    "    \n",
    "    left, right = splitByFeature(x, bestFeature)\n",
    "    buildDecisionTree(x[left], y[left], featureSize, tree, maxDepth, currDepth + 1)\n",
    "    buildDecisionTree(x[right], y[right], featureSize, tree, maxDepth, currDepth + 1)"
   ]
  },
  {
   "cell_type": "code",
   "execution_count": 4,
   "id": "4abb903c-2db8-4b72-9850-885a616a9908",
   "metadata": {},
   "outputs": [],
   "source": [
    "x = np.array([[1,1,1],[1,0,1],[1,0,0],[1,0,0],[1,1,1],[0,1,1],[0,0,0],[1,0,1],[0,1,0],[1,0,0]])\n",
    "y = np.array([1,1,0,0,1,0,0,1,1,0])"
   ]
  },
  {
   "cell_type": "code",
   "execution_count": 5,
   "id": "a011388f-6218-4c2b-a646-2da8377c465e",
   "metadata": {},
   "outputs": [
    {
     "name": "stdout",
     "output_type": "stream",
     "text": [
      "[(0, 2), (1, 0), (1, 1)]\n"
     ]
    }
   ],
   "source": [
    "tree = []\n",
    "buildDecisionTree(x, y, 3, tree, 2, 0)\n",
    "print(tree)"
   ]
  },
  {
   "cell_type": "code",
   "execution_count": 6,
   "id": "b713066b-a0b3-4473-b248-a5ce4a75a7b5",
   "metadata": {},
   "outputs": [
    {
     "name": "stdout",
     "output_type": "stream",
     "text": [
      "[1 1 0 0 1 0 0 1 1 0]\n"
     ]
    }
   ],
   "source": [
    "from sklearn.tree import DecisionTreeClassifier\n",
    "\n",
    "model = DecisionTreeClassifier()\n",
    "model.fit(x, y) \n",
    "pred = model.predict(x)\n",
    "print(pred)"
   ]
  },
  {
   "cell_type": "code",
   "execution_count": null,
   "id": "23e4f6bf-5edb-4689-b81b-cd264de58608",
   "metadata": {},
   "outputs": [],
   "source": []
  }
 ],
 "metadata": {
  "kernelspec": {
   "display_name": "Python 3 (ipykernel)",
   "language": "python",
   "name": "python3"
  },
  "language_info": {
   "codemirror_mode": {
    "name": "ipython",
    "version": 3
   },
   "file_extension": ".py",
   "mimetype": "text/x-python",
   "name": "python",
   "nbconvert_exporter": "python",
   "pygments_lexer": "ipython3",
   "version": "3.12.4"
  }
 },
 "nbformat": 4,
 "nbformat_minor": 5
}
