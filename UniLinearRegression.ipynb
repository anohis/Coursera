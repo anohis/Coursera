{
 "cells": [
  {
   "cell_type": "code",
   "execution_count": 1,
   "id": "6c5c3579-ea48-4a7b-9fca-4816ec89e8d0",
   "metadata": {},
   "outputs": [],
   "source": [
    "import numpy as np\n",
    "import matplotlib.pyplot as plt"
   ]
  },
  {
   "cell_type": "code",
   "execution_count": 2,
   "id": "f0bcc49b-c971-4bcf-9c32-409ec3e647f2",
   "metadata": {},
   "outputs": [],
   "source": [
    "def model(x, w, b):\n",
    "    return x * w + b"
   ]
  },
  {
   "cell_type": "code",
   "execution_count": 3,
   "id": "52a19e70-732e-41a9-91ee-26b628d3ba8a",
   "metadata": {},
   "outputs": [],
   "source": [
    "def cost(y_pred, y):\n",
    "    cost = np.mean((y_pred - y) ** 2) / 2\n",
    "    return cost"
   ]
  },
  {
   "cell_type": "code",
   "execution_count": 4,
   "id": "9f0dcf82-60d4-4aac-bccf-91dea5a5cba3",
   "metadata": {},
   "outputs": [],
   "source": [
    "def gradient(x, y, w, b):\n",
    "    n = len(x)\n",
    "    w_g = 0.0\n",
    "    b_g = 0.0\n",
    "    for i in range(n):\n",
    "        pred = w * x[i] + b\n",
    "        cost = (pred - y[i])\n",
    "        w_g = w_g + cost * x[i]\n",
    "        b_g = b_g + cost\n",
    "    w_g = w_g / n\n",
    "    b_g = b_g / n\n",
    "    return w_g, b_g"
   ]
  },
  {
   "cell_type": "code",
   "execution_count": 5,
   "id": "23dfb385-13c7-4047-89e9-b75fa8208837",
   "metadata": {},
   "outputs": [],
   "source": [
    "def gradient_descent(x, y, w, b, alpha, iterCount):\n",
    "    for i in range(iterCount):\n",
    "        w_g, b_g = gradient(x_train, y_train, w, b)\n",
    "        w = w - alpha * w_g\n",
    "        b = b - alpha * b_g\n",
    "        if (i % 1000) == 0:\n",
    "            y_pred = model(x_train, w, b)\n",
    "            c = cost(y_pred, y_train)\n",
    "            print(f\"Iteration {i:4}: Cost {c:0.2e} \",\n",
    "                  f\"dj_dw: {w_g: 0.3e}, dj_db: {b_g: 0.3e}  \",\n",
    "                  f\"w: {w: 0.3e}, b:{b: 0.5e}\")\n",
    "    return w, b"
   ]
  },
  {
   "cell_type": "code",
   "execution_count": 6,
   "id": "ebf90e15-c312-427e-a1de-ed3349343001",
   "metadata": {},
   "outputs": [
    {
     "name": "stdout",
     "output_type": "stream",
     "text": [
      "Iteration    0: Cost 7.93e+04  dj_dw: -6.500e+02, dj_db: -4.000e+02   w:  6.500e+00, b: 4.00000e+00\n",
      "Iteration 1000: Cost 3.41e+00  dj_dw: -3.712e-01, dj_db:  6.007e-01   w:  1.949e+02, b: 1.08228e+02\n",
      "Iteration 2000: Cost 7.93e-01  dj_dw: -1.789e-01, dj_db:  2.895e-01   w:  1.975e+02, b: 1.03966e+02\n",
      "Iteration 3000: Cost 1.84e-01  dj_dw: -8.625e-02, dj_db:  1.396e-01   w:  1.988e+02, b: 1.01912e+02\n",
      "Iteration 4000: Cost 4.28e-02  dj_dw: -4.158e-02, dj_db:  6.727e-02   w:  1.994e+02, b: 1.00922e+02\n",
      "Iteration 5000: Cost 9.95e-03  dj_dw: -2.004e-02, dj_db:  3.243e-02   w:  1.997e+02, b: 1.00444e+02\n",
      "Iteration 6000: Cost 2.31e-03  dj_dw: -9.660e-03, dj_db:  1.563e-02   w:  1.999e+02, b: 1.00214e+02\n",
      "Iteration 7000: Cost 5.37e-04  dj_dw: -4.657e-03, dj_db:  7.535e-03   w:  1.999e+02, b: 1.00103e+02\n",
      "Iteration 8000: Cost 1.25e-04  dj_dw: -2.245e-03, dj_db:  3.632e-03   w:  2.000e+02, b: 1.00050e+02\n",
      "Iteration 9000: Cost 2.90e-05  dj_dw: -1.082e-03, dj_db:  1.751e-03   w:  2.000e+02, b: 1.00024e+02\n"
     ]
    }
   ],
   "source": [
    "x_train = np.array([1.0, 2.0])\n",
    "y_train = np.array([300.0, 500.0])\n",
    "\n",
    "w = 0\n",
    "b = 0\n",
    "alpha = 1.0e-2\n",
    "iterCount = 10000\n",
    "\n",
    "w, b = gradient_descent(x_train, y_train, w, b, alpha, iterCount)"
   ]
  },
  {
   "cell_type": "code",
   "execution_count": 7,
   "id": "f602e838-fddd-4c18-9c3f-14e87b042fe2",
   "metadata": {},
   "outputs": [
    {
     "name": "stdout",
     "output_type": "stream",
     "text": [
      "1000.0 sqft house prediction 300.0 Thousand dollars\n",
      "1200.0 sqft house prediction 340.0 Thousand dollars\n",
      "2000.0 sqft house prediction 500.0 Thousand dollars\n"
     ]
    }
   ],
   "source": [
    "x_test = np.array([1.0, 1.2, 2.0])\n",
    "y_pred = model(x_test, w, b)\n",
    "\n",
    "for i in range(len(x_test)):\n",
    "    print(f\"{1000 * x_test[i]} sqft house prediction {y_pred[i]:0.1f} Thousand dollars\")"
   ]
  },
  {
   "cell_type": "code",
   "execution_count": 10,
   "id": "22b49e8b-f8f4-4878-828e-d7490bc9d8df",
   "metadata": {},
   "outputs": [
    {
     "data": {
      "image/png": "[encoded data removed]",
      "text/plain": [
       "<Figure size 400x400 with 1 Axes>"
      ]
     },
     "metadata": {},
     "output_type": "display_data"
    }
   ],
   "source": [
    "fig, ax = plt.subplots(1, 1, figsize = (4,4))\n",
    "ax.scatter(x_train, y_train)\n",
    "\n",
    "x = np.arange(0, 10)\n",
    "y = model(x, w, b)\n",
    "\n",
    "ax.plot(x, y)\n",
    "\n",
    "plt.show()"
   ]
  },
  {
   "cell_type": "code",
   "execution_count": null,
   "id": "a12c3f19-ab93-4458-a403-1a9f5812c067",
   "metadata": {},
   "outputs": [],
   "source": []
  }
 ],
 "metadata": {
  "kernelspec": {
   "display_name": "Python 3 (ipykernel)",
   "language": "python",
   "name": "python3"
  },
  "language_info": {
   "codemirror_mode": {
    "name": "ipython",
    "version": 3
   },
   "file_extension": ".py",
   "mimetype": "text/x-python",
   "name": "python",
   "nbconvert_exporter": "python",
   "pygments_lexer": "ipython3",
   "version": "3.12.4"
  }
 },
 "nbformat": 4,
 "nbformat_minor": 5
}
