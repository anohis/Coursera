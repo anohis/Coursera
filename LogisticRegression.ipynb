{
 "cells": [
  {
   "cell_type": "code",
   "execution_count": 1,
   "id": "6b1e4953-5731-4466-8590-9e05206ecce2",
   "metadata": {},
   "outputs": [],
   "source": [
    "import numpy as np\n",
    "import matplotlib.pyplot as plt"
   ]
  },
  {
   "cell_type": "code",
   "execution_count": 2,
   "id": "e22d2c05-fab9-400f-95d8-04693daa0a30",
   "metadata": {},
   "outputs": [],
   "source": [
    "def sigmoid(x):\n",
    "    return 1 / (1 + np.exp(-x))"
   ]
  },
  {
   "cell_type": "code",
   "execution_count": 3,
   "id": "cf450540-eef5-47e0-bf47-3c846cd1d579",
   "metadata": {},
   "outputs": [],
   "source": [
    "def model(x, w, b):\n",
    "    raw = np.dot(x, w) + b\n",
    "    return sigmoid(raw)"
   ]
  },
  {
   "cell_type": "code",
   "execution_count": 4,
   "id": "fabd58b4-16ea-4db4-a222-f8c1ab644648",
   "metadata": {},
   "outputs": [],
   "source": [
    "def cost(y_pred, y):\n",
    "    err = y * np.log(y_pred) + (1 - y) * np.log(1 - y_pred)\n",
    "    return -err.mean() / 2"
   ]
  },
  {
   "cell_type": "code",
   "execution_count": 5,
   "id": "aa2f9fc0-dee7-4821-960d-78678efcd10c",
   "metadata": {},
   "outputs": [],
   "source": [
    "def gradient(x, y, w, b):\n",
    "    pred = model(x, w, b)\n",
    "    err = (pred - y).reshape(-1, 1)\n",
    "    wGrad = np.mean(err * x, axis = 0)\n",
    "    bGrad = np.mean(err)\n",
    "    return wGrad, bGrad"
   ]
  },
  {
   "cell_type": "code",
   "execution_count": 6,
   "id": "f5b17b29-2815-46ac-b56f-9e0e4886aa92",
   "metadata": {},
   "outputs": [],
   "source": [
    "def gradientDescent(x, y, w, b, alpha, iterCount):\n",
    "    for i in range(iterCount):\n",
    "        wGrad, bGrad = gradient(x, y, w, b)\n",
    "        w = w - alpha * wGrad\n",
    "        b = b - alpha * bGrad\n",
    "        if i % 1000 == 0:\n",
    "            pred = model(x, w, b)\n",
    "            c = cost(pred, y)\n",
    "            print(f\"Iteration {i:4d}: Cost {c}   \")\n",
    "    return w, b"
   ]
  },
  {
   "cell_type": "code",
   "execution_count": 7,
   "id": "752cd1df-a08d-450b-b26f-863d94ccc2b6",
   "metadata": {},
   "outputs": [
    {
     "name": "stdout",
     "output_type": "stream",
     "text": [
      "Iteration    0: Cost 0.342305234280287   \n",
      "Iteration 1000: Cost 0.07954888334352285   \n",
      "Iteration 2000: Cost 0.042300320884650404   \n",
      "Iteration 3000: Cost 0.02852663639701264   \n",
      "Iteration 4000: Cost 0.02145379710841   \n",
      "Iteration 5000: Cost 0.017169238649422786   \n",
      "Iteration 6000: Cost 0.01430189901106003   \n",
      "Iteration 7000: Cost 0.01225078480439653   \n",
      "Iteration 8000: Cost 0.010711851662846446   \n",
      "Iteration 9000: Cost 0.009515068562054547   \n",
      "\n",
      "updated parameters: w:[5.28123029 5.07815608], b:-14.222409982019839\n"
     ]
    }
   ],
   "source": [
    "xTrain = np.array([[0.5, 1.5], [1,1], [1.5, 0.5], [3, 0.5], [2, 2], [1, 2.5]])\n",
    "yTrain = np.array([0, 0, 0, 1, 1, 1])      \n",
    "\n",
    "w = np.zeros_like(xTrain[0])\n",
    "b = 0.\n",
    "\n",
    "alpha = 0.1\n",
    "iters = 10000\n",
    "\n",
    "w, b = gradientDescent(xTrain, yTrain, w, b, alpha, iters)\n",
    "print(f\"\\nupdated parameters: w:{w}, b:{b}\")"
   ]
  },
  {
   "cell_type": "code",
   "execution_count": 8,
   "id": "0795fedd-e033-4683-9dab-628f3f1de0b3",
   "metadata": {},
   "outputs": [
    {
     "data": {
      "image/png": "[encoded data removed]",
      "text/plain": [
       "<Figure size 400x400 with 1 Axes>"
      ]
     },
     "metadata": {},
     "output_type": "display_data"
    }
   ],
   "source": [
    "fig, ax = plt.subplots(1, 1, figsize = (4,4))\n",
    "pos = yTrain == 1\n",
    "neg = yTrain == 0\n",
    "\n",
    "ax.scatter(xTrain[pos][:, 0], xTrain[pos][:, 1], marker = 'o', c = \"red\", label = \"y = 1\")\n",
    "ax.scatter(xTrain[neg][:, 0], xTrain[neg][:, 1], marker = 'x', c = \"blue\", label = \"y = 0\")\n",
    "ax.axis([0, 4, 0, 3.5])\n",
    "\n",
    "x0 = -b / w[0]\n",
    "x1 = -b / w[1]\n",
    "ax.plot([0, x1], [x0, 0], lw = 1)\n",
    "\n",
    "plt.show()"
   ]
  },
  {
   "cell_type": "code",
   "execution_count": null,
   "id": "60c96450-ebf8-434a-a876-d722a329d657",
   "metadata": {},
   "outputs": [],
   "source": []
  }
 ],
 "metadata": {
  "kernelspec": {
   "display_name": "Python 3 (ipykernel)",
   "language": "python",
   "name": "python3"
  },
  "language_info": {
   "codemirror_mode": {
    "name": "ipython",
    "version": 3
   },
   "file_extension": ".py",
   "mimetype": "text/x-python",
   "name": "python",
   "nbconvert_exporter": "python",
   "pygments_lexer": "ipython3",
   "version": "3.12.4"
  }
 },
 "nbformat": 4,
 "nbformat_minor": 5
}
