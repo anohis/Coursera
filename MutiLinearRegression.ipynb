{
 "cells": [
  {
   "cell_type": "code",
   "execution_count": 1,
   "id": "d8350eb7-57b9-447c-8aa7-117e8342e745",
   "metadata": {},
   "outputs": [],
   "source": [
    "import numpy as np\n",
    "import matplotlib.pyplot as plt"
   ]
  },
  {
   "cell_type": "code",
   "execution_count": 2,
   "id": "9ce83cdc-a785-46d8-aafd-aa326a167942",
   "metadata": {},
   "outputs": [],
   "source": [
    "def model(x, w, b):\n",
    "    size = len(x)\n",
    "    y = np.zeros(size)\n",
    "    for i in range(size):\n",
    "        y[i] = np.dot(x[i], w) + b\n",
    "    return y"
   ]
  },
  {
   "cell_type": "code",
   "execution_count": 3,
   "id": "11199b87-e2b0-41f8-993b-43e7e00903df",
   "metadata": {},
   "outputs": [],
   "source": [
    "def cost(y_pred, y):\n",
    "    size = len(y)\n",
    "    dif = y_pred - y\n",
    "    return np.dot(dif, dif) / (2 * size)"
   ]
  },
  {
   "cell_type": "code",
   "execution_count": 4,
   "id": "56982e8e-fd3b-4f6d-81c4-a2a29940ad21",
   "metadata": {},
   "outputs": [],
   "source": [
    "def gradient(x, y, w, b):\n",
    "    size = len(x)\n",
    "    w_g = np.zeros(len(w))\n",
    "    b_g = 0\n",
    "    for i in range(size):\n",
    "        pred = np.dot(x[i], w) + b\n",
    "        dif = pred - y[i]\n",
    "        w_g = w_g + dif * x[i]\n",
    "        b_g = b_g + dif\n",
    "    w_g = w_g / size\n",
    "    b_g = b_g / size\n",
    "    return w_g, b_g"
   ]
  },
  {
   "cell_type": "code",
   "execution_count": 5,
   "id": "613a07d0-7601-4340-83bf-f145bbd57783",
   "metadata": {},
   "outputs": [],
   "source": [
    "def gradient_descent(x, y, w, b, alpha, iterCount):\n",
    "    for i in range(iterCount):\n",
    "        w_g, b_g = gradient(x, y, w, b)\n",
    "        w = w - alpha * w_g\n",
    "        b = b - alpha * b_g\n",
    "        if i % 1000 == 0:\n",
    "            y_pred = model(x_train, w, b)\n",
    "            c = cost(y_pred, y_train)\n",
    "            print(f\"Iteration {i:4d}: Cost {c:8.2f}   \")\n",
    "    return w, b"
   ]
  },
  {
   "cell_type": "code",
   "execution_count": 6,
   "id": "0df43b9a-f85e-4ea1-9bcf-dfa4cd5ddec5",
   "metadata": {},
   "outputs": [],
   "source": [
    "def zScore(x):\n",
    "    std = np.std(x, axis = 0)\n",
    "    mean = np.mean(x, axis = 0)\n",
    "    return (x - mean) / std"
   ]
  },
  {
   "cell_type": "code",
   "execution_count": 7,
   "id": "9d5efc38-3c1a-4b60-8825-c388fdfb6dd3",
   "metadata": {},
   "outputs": [
    {
     "name": "stdout",
     "output_type": "stream",
     "text": [
      "Iteration    0: Cost  2529.46   \n",
      "Iteration 1000: Cost   686.69   \n",
      "Iteration 2000: Cost   677.19   \n",
      "Iteration 3000: Cost   668.48   \n",
      "Iteration 4000: Cost   660.50   \n",
      "Iteration 5000: Cost   653.19   \n",
      "Iteration 6000: Cost   646.49   \n",
      "Iteration 7000: Cost   640.35   \n",
      "Iteration 8000: Cost   634.72   \n",
      "Iteration 9000: Cost   629.56   \n",
      "w: [ 0.21699899  0.03240792 -0.10755879 -0.5799772 ], b: -0.019077710470483206\n"
     ]
    }
   ],
   "source": [
    "x_train = np.array([[2104, 5, 1, 45], [1416, 3, 2, 40], [852, 2, 1, 35]])\n",
    "y_train = np.array([460, 232, 178])\n",
    "\n",
    "x_norm = zScore(x_train)\n",
    "\n",
    "w = np.zeros(len(x_train[0]))\n",
    "b =  0\n",
    "\n",
    "#b = 785.1811367994083\n",
    "#w = np.array([ 0.39133535, 18.75376741, -53.36032453, -26.42131618])\n",
    "\n",
    "alpha = 5.0e-7\n",
    "iterCount = 10000\n",
    "\n",
    "w, b = gradient_descent(x_train, y_train, w, b, alpha, iterCount)\n",
    "print(f\"w: {w}, b: {b}\")"
   ]
  },
  {
   "cell_type": "code",
   "execution_count": 8,
   "id": "9ce8df15-0bbc-443a-b9ef-bd6af1047c5a",
   "metadata": {},
   "outputs": [
    {
     "name": "stdout",
     "output_type": "stream",
     "text": [
      "x: [2104    5    1   45], y: 460, pred: 430.50230063959395\n",
      "x: [1416    3    2   40], y: 232, pred: 283.9345079675299\n",
      "x: [852   2   1  35], y: 178, pred: 164.52211536512178\n"
     ]
    }
   ],
   "source": [
    "y_pred = model(x_train, w, b)\n",
    "for i in range(len(y_pred)):\n",
    "    print(f\"x: {x_train[i]}, y: {y_train[i]}, pred: {y_pred[i]}\")"
   ]
  },
  {
   "cell_type": "code",
   "execution_count": 9,
   "id": "f96f09a2-45e6-4c27-aaa8-ff6f06841c0b",
   "metadata": {},
   "outputs": [
    {
     "data": {
      "image/png": "[encoded data removed]",
      "text/plain": [
       "<Figure size 1200x300 with 4 Axes>"
      ]
     },
     "metadata": {},
     "output_type": "display_data"
    }
   ],
   "source": [
    "fig, ax = plt.subplots(1, 4, figsize=(12, 3), sharey = True)\n",
    "\n",
    "x_features = ['size(sqft)', 'bedrooms', 'floors', 'age']\n",
    "\n",
    "for i in range(len(ax)):\n",
    "    ax[i].scatter(x_train[:,i], y_train, c = \"blue\", label = 'target')\n",
    "    ax[i].set_xlabel(x_features[i])\n",
    "    ax[i].scatter(x_train[:,i], y_pred, c = \"red\", label = 'predict')\n",
    "ax[0].set_ylabel(\"Price\"); \n",
    "ax[0].legend();\n",
    "\n",
    "plt.show()"
   ]
  },
  {
   "cell_type": "code",
   "execution_count": null,
   "id": "456466c2-4800-42aa-ab30-18a17994d768",
   "metadata": {},
   "outputs": [],
   "source": []
  }
 ],
 "metadata": {
  "kernelspec": {
   "display_name": "Python 3 (ipykernel)",
   "language": "python",
   "name": "python3"
  },
  "language_info": {
   "codemirror_mode": {
    "name": "ipython",
    "version": 3
   },
   "file_extension": ".py",
   "mimetype": "text/x-python",
   "name": "python",
   "nbconvert_exporter": "python",
   "pygments_lexer": "ipython3",
   "version": "3.12.4"
  }
 },
 "nbformat": 4,
 "nbformat_minor": 5
}
