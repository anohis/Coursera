{
 "cells": [
  {
   "cell_type": "code",
   "execution_count": 1,
   "id": "263a1dc9-2466-49d0-89dd-f390cda78285",
   "metadata": {},
   "outputs": [],
   "source": [
    "import gymnasium as gym\n",
    "import matplotlib.pyplot as plt\n",
    "import numpy as np\n",
    "import tensorflow as tf\n",
    "import random\n",
    "from tensorflow.keras import Sequential\n",
    "from tensorflow.keras.layers import Dense, Input\n",
    "from tensorflow.keras.losses import MSE\n",
    "from tensorflow.keras.optimizers import Adam\n",
    "from IPython import display\n",
    "from collections import deque, namedtuple"
   ]
  },
  {
   "cell_type": "code",
   "execution_count": 2,
   "id": "a71e5946-3494-4539-a38c-25d808abf480",
   "metadata": {},
   "outputs": [],
   "source": [
    "class DQN:\n",
    "    def __init__(self, observationSize, actionSize, adamAlpha):\n",
    "        self.networkQ = Sequential([\n",
    "            Input(observationSize),\n",
    "            Dense(64, activation = \"relu\"),\n",
    "            Dense(64, activation = \"relu\"),\n",
    "            Dense(actionSize, activation = \"linear\"),\n",
    "        ])\n",
    "        self.targetQ = Sequential([\n",
    "            Input(observationSize),\n",
    "            Dense(64, activation = \"relu\"),\n",
    "            Dense(64, activation = \"relu\"),\n",
    "            Dense(actionSize, activation = \"linear\"),\n",
    "        ])\n",
    "        self.optimizer = Adam(adamAlpha)\n",
    "\n",
    "        self.targetQ.set_weights(self.networkQ.get_weights())\n",
    "\n",
    "        self.actionSize = actionSize\n",
    "        \n",
    "    def pred(self, observation, epsilon):\n",
    "        if random.random() < epsilon:\n",
    "            return random.choice(np.arange(self.actionSize))\n",
    "        else:\n",
    "            qValues = self.networkQ(observation)\n",
    "            return np.argmax(qValues.numpy()[0])\n",
    "            \n",
    "    @tf.function  \n",
    "    def fit(self, exps, gamma, alpha):\n",
    "        with tf.GradientTape() as tape:\n",
    "            loss = self.getLoss(exps, gamma)\n",
    "        gradients = tape.gradient(loss, self.networkQ.trainable_variables)\n",
    "        self.optimizer.apply_gradients(zip(gradients, self.networkQ.trainable_variables))\n",
    "\n",
    "        self.softUpdate(alpha)\n",
    "\n",
    "    def softUpdate(self, alpha):\n",
    "        networkW = self.networkQ.weights\n",
    "        targetW = self.targetQ.weights\n",
    "        \n",
    "        for networkVar, targetVar in zip(networkW, targetW):\n",
    "            targetVar.assign(alpha * networkVar + (1.0 - alpha) * targetVar)\n",
    "            \n",
    "    def getLoss(self, exps, gamma):\n",
    "        observations, actions, rewards, nextObservations, dones = exps\n",
    "        \n",
    "        maxQ = self.targetQ(nextObservations)\n",
    "        maxQ = tf.reduce_max(maxQ, axis = -1)\n",
    "\n",
    "        y = rewards + (1 - dones) * gamma * maxQ\n",
    "        q = self.networkQ(observations)\n",
    "\n",
    "        index = tf.stack([tf.range(q.shape[0]), tf.cast(actions, tf.int32)], axis = 1)\n",
    "        q = tf.gather_nd(q, index)\n",
    "        \n",
    "        loss = MSE(y, q)\n",
    "        return loss\n"
   ]
  },
  {
   "cell_type": "code",
   "execution_count": 3,
   "id": "7f65a03c-ef86-4276-be75-a47db3a30801",
   "metadata": {},
   "outputs": [],
   "source": [
    "class ExperiencePool:\n",
    "    def __init__(self, size):\n",
    "        self.pool = deque(maxlen = size)\n",
    "        \n",
    "    def add(self, experience):\n",
    "        self.pool.append(experience)\n",
    "            \n",
    "    def sample(self, count):\n",
    "        exps = random.sample(self.pool, count)\n",
    "        observations = tf.convert_to_tensor(np.array([e.observation for e in exps if e is not None]), dtype = tf.float32)\n",
    "        actions = tf.convert_to_tensor(np.array([e.action for e in exps if e is not None]), dtype = tf.float32)\n",
    "        rewards = tf.convert_to_tensor(np.array([e.reward for e in exps if e is not None]), dtype = tf.float32)\n",
    "        nextObservations = tf.convert_to_tensor(np.array([e.nextObservation for e in exps if e is not None]), dtype = tf.float32)\n",
    "        dones = tf.convert_to_tensor(np.array([e.done for e in exps if e is not None]).astype(np.uint8), dtype = tf.float32)\n",
    "        \n",
    "        return (observations, actions, rewards, nextObservations, dones)\n",
    "                                     \n",
    "    def count(self):\n",
    "        return len(self.pool)\n",
    "    \n",
    "    def summary(self):\n",
    "        print(self.pool)"
   ]
  },
  {
   "cell_type": "code",
   "execution_count": 4,
   "id": "dc46d563-778f-4819-975c-15781c00ed02",
   "metadata": {},
   "outputs": [],
   "source": [
    "experience = namedtuple(\"Experience\", field_names = [\"observation\", \"action\", \"reward\", \"nextObservation\", \"done\"])"
   ]
  },
  {
   "cell_type": "code",
   "execution_count": 5,
   "id": "0247a199-0135-4f4d-a703-9aa859d8854e",
   "metadata": {},
   "outputs": [],
   "source": [
    "maxEpisode = 1000\n",
    "maxStep = 1000\n",
    "learnInterval = 4\n",
    "learnSampleSize = 64\n",
    "expPoolSize = 10000\n",
    "gamma = 0.995\n",
    "alpha = 0.001\n",
    "epsilon = 1\n",
    "adamAlpha = 0.001\n",
    "\n",
    "random.seed(0)\n",
    "tf.random.set_seed(0)"
   ]
  },
  {
   "cell_type": "code",
   "execution_count": 6,
   "id": "b891f1a0-18b4-4d7a-8015-360894d98ce9",
   "metadata": {},
   "outputs": [],
   "source": [
    "env = gym.make('LunarLander-v2', render_mode = \"rgb_array\")\n",
    "\n",
    "observationSize = env.observation_space.shape\n",
    "actionSize = env.action_space.n\n",
    "\n",
    "model = DQN(observationSize, actionSize, adamAlpha)\n",
    "expPool = ExperiencePool(expPoolSize)"
   ]
  },
  {
   "cell_type": "code",
   "execution_count": 7,
   "id": "755ba007-0316-4f24-8074-b800ebab8b67",
   "metadata": {},
   "outputs": [
    {
     "name": "stdout",
     "output_type": "stream",
     "text": [
      "Episode 0, last 100 score: -182.87481525729098\n",
      "Episode 100, last 100 score: -154.0193211693236\n",
      "Episode 200, last 100 score: -117.54978976614419\n",
      "Episode 300, last 100 score: -121.37533571002878\n",
      "Episode 400, last 100 score: -58.992049405684774\n",
      "Episode 500, last 100 score: -38.469900480198774\n",
      "Episode 600, last 100 score: -13.952837471982521\n",
      "Episode 700, last 100 score: -12.008853022193346\n",
      "Episode 800, last 100 score: -20.948266586335096\n",
      "Episode 900, last 100 score: 14.73736533223967454\n",
      "Episode 999, last 100 score: 240.85856911511397"
     ]
    }
   ],
   "source": [
    "scores = []\n",
    "showSize = 100\n",
    "\n",
    "for episode in range(maxEpisode):\n",
    "    \n",
    "    observation, info = env.reset()\n",
    "    score = 0\n",
    "    \n",
    "    for step in range(maxStep):\n",
    "        action = model.pred(np.expand_dims(observation, axis = 0), epsilon)\n",
    "        nextObservation, reward, terminated, truncated, info = env.step(action)\n",
    "\n",
    "        isDone = terminated or truncated\n",
    "        \n",
    "        exp = experience(observation, action, reward, nextObservation, isDone)\n",
    "        expPool.add(exp)\n",
    "    \n",
    "        if step % learnInterval == 0 and expPool.count() >= learnSampleSize:\n",
    "            exps = expPool.sample(learnSampleSize)\n",
    "            model.fit(exps, gamma, alpha)\n",
    "    \n",
    "        observation = nextObservation.copy()\n",
    "        score += reward\n",
    "        epsilon = max(0.01, epsilon * 0.995)\n",
    "\n",
    "        if isDone:\n",
    "            break\n",
    "            \n",
    "    scores.append(score)\n",
    "\n",
    "    mean = np.mean(scores[-showSize:])\n",
    "    print(f\"\\rEpisode {episode}, last {showSize} score: {mean}\", end = \"\")\n",
    "    \n",
    "    if episode % showSize == 0:\n",
    "        print(f\"\\rEpisode {episode}, last {showSize} score: {mean}\")\n"
   ]
  },
  {
   "cell_type": "code",
   "execution_count": 9,
   "id": "2a67f0b3-d1c3-4249-a204-201464412f52",
   "metadata": {},
   "outputs": [
    {
     "data": {
      "image/png": "[encoded data removed]",
      "text/plain": [
       "<Figure size 640x480 with 1 Axes>"
      ]
     },
     "metadata": {},
     "output_type": "display_data"
    },
    {
     "name": "stdout",
     "output_type": "stream",
     "text": [
      "score: 217.2859868684771\n"
     ]
    }
   ],
   "source": [
    "observation, info = env.reset()\n",
    "score = 0\n",
    "\n",
    "for step in range(maxStep):\n",
    "    action = model.pred(np.expand_dims(observation, axis = 0), 0)\n",
    "        \n",
    "    nextObservation, reward, terminated, truncated, info = env.step(action)\n",
    "    \n",
    "    observation = nextObservation\n",
    "    score += reward\n",
    "        \n",
    "    display.clear_output(wait = True)\n",
    "    plt.imshow(env.render())\n",
    "    plt.show()\n",
    "\n",
    "    if terminated or truncated:\n",
    "        break\n",
    "print(f\"score: {score}\")"
   ]
  },
  {
   "cell_type": "code",
   "execution_count": null,
   "id": "7e9f719a-8240-4a07-9554-1c7d775a2b36",
   "metadata": {},
   "outputs": [],
   "source": []
  },
  {
   "cell_type": "code",
   "execution_count": null,
   "id": "5090806a-6795-45af-b4d4-97ace041c669",
   "metadata": {},
   "outputs": [],
   "source": []
  }
 ],
 "metadata": {
  "kernelspec": {
   "display_name": "Python 3 (ipykernel)",
   "language": "python",
   "name": "python3"
  },
  "language_info": {
   "codemirror_mode": {
    "name": "ipython",
    "version": 3
   },
   "file_extension": ".py",
   "mimetype": "text/x-python",
   "name": "python",
   "nbconvert_exporter": "python",
   "pygments_lexer": "ipython3",
   "version": "3.12.4"
  }
 },
 "nbformat": 4,
 "nbformat_minor": 5
}
