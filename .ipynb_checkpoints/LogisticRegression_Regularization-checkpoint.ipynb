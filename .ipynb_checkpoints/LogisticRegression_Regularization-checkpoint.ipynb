{
 "cells": [
  {
   "cell_type": "code",
   "execution_count": 1,
   "id": "526617b7-ecb5-4415-9567-753e62411d53",
   "metadata": {},
   "outputs": [],
   "source": [
    "import numpy as np\n",
    "import matplotlib.pyplot as plt"
   ]
  },
  {
   "cell_type": "code",
   "execution_count": 2,
   "id": "0ae2afb6-8fbd-4c69-91cf-7003bfd23488",
   "metadata": {},
   "outputs": [],
   "source": [
    "def sigmoid(x):\n",
    "    return 1 / (1 + np.exp(-x))"
   ]
  },
  {
   "cell_type": "code",
   "execution_count": 3,
   "id": "5e1d43f3-e3d1-4b71-a6ba-84adbdb80c10",
   "metadata": {},
   "outputs": [],
   "source": [
    "def model(x, w, b):\n",
    "    raw = np.dot(x, w) + b\n",
    "    return sigmoid(raw)"
   ]
  },
  {
   "cell_type": "code",
   "execution_count": 4,
   "id": "66648e5b-9b1b-4416-8e93-71fe03957004",
   "metadata": {},
   "outputs": [],
   "source": [
    "def cost(pred, y):\n",
    "    return -np.mean(y * np.log(pred) + (1 - y) * np.log(1 - pred)) / 2"
   ]
  },
  {
   "cell_type": "code",
   "execution_count": 5,
   "id": "4ad6bac9-28f0-4f86-801a-1ffb934e8b9b",
   "metadata": {},
   "outputs": [],
   "source": [
    "def gradient(x, y, w, b, lamb):\n",
    "    pred = model(x, w, b)\n",
    "    err = (pred - y).reshape(-1, 1)\n",
    "    wGrad = np.mean(err * x + lamb * w, axis = 0)\n",
    "    bGrad = np.mean(err)\n",
    "    return wGrad, bGrad"
   ]
  },
  {
   "cell_type": "code",
   "execution_count": 6,
   "id": "d5ea955c-77be-427b-9491-5690dff7d0c0",
   "metadata": {},
   "outputs": [],
   "source": [
    "def gradientDescent(x, y, w, b, alpha, iters, lamb):\n",
    "    for i in range(iters):\n",
    "        wGrad , bGrad = gradient(x, y, w, b, lamb)\n",
    "        w = w - alpha * wGrad\n",
    "        b = b - alpha * bGrad\n",
    "        if i % 1000 == 0:\n",
    "            pred = model(x, w, b)\n",
    "            c = cost(pred, y)\n",
    "            print(f\"iteration: {i}, cost: {c}\")\n",
    "    return w, b"
   ]
  },
  {
   "cell_type": "code",
   "execution_count": 7,
   "id": "5e59d439-a364-442b-a9f2-5cb797267577",
   "metadata": {},
   "outputs": [
    {
     "name": "stdout",
     "output_type": "stream",
     "text": [
      "iteration: 0, cost: 0.342305234280287\n",
      "iteration: 1000, cost: 0.16945202227401168\n",
      "iteration: 2000, cost: 0.16453004142980163\n",
      "iteration: 3000, cost: 0.1642912599636903\n",
      "iteration: 4000, cost: 0.1642793884077279\n",
      "iteration: 5000, cost: 0.16427879746446683\n",
      "iteration: 6000, cost: 0.164278768046655\n",
      "iteration: 7000, cost: 0.16427876658219925\n",
      "iteration: 8000, cost: 0.1642787665092968\n",
      "iteration: 9000, cost: 0.16427876650566764\n",
      "\n",
      "updated parameters: w:[1.22788442 1.03930379], b:-3.2190120428029525\n"
     ]
    }
   ],
   "source": [
    "xTrain = np.array([[0.5, 1.5], [1,1], [1.5, 0.5], [3, 0.5], [2, 2], [1, 2.5]])\n",
    "yTrain = np.array([0, 0, 0, 1, 1, 1]) \n",
    "\n",
    "w = np.zeros_like(xTrain[0])\n",
    "b = 0.\n",
    "alpha = 0.1\n",
    "iters = 10000\n",
    "lamb = 0.1\n",
    "\n",
    "w, b = gradientDescent(xTrain, yTrain, w, b, alpha, iters, lamb)\n",
    "print(f\"\\nupdated parameters: w:{w}, b:{b}\")"
   ]
  },
  {
   "cell_type": "code",
   "execution_count": 8,
   "id": "44322229-7193-4ee9-a53e-d7da4a697be0",
   "metadata": {},
   "outputs": [
    {
     "data": {
      "image/png": "[encoded data removed]",
      "text/plain": [
       "<Figure size 640x480 with 2 Axes>"
      ]
     },
     "metadata": {},
     "output_type": "display_data"
    }
   ],
   "source": [
    "fig, ax = plt.subplots(1, xTrain.shape[1])\n",
    "\n",
    "pred = model(xTrain, w, b)\n",
    "\n",
    "for i in range(len(ax)):\n",
    "    ax[i].scatter(xTrain[:,i], yTrain, marker = \"o\", c = \"blue\")\n",
    "    ax[i].scatter(xTrain[:,i], pred, marker = \"x\", c = \"red\")\n",
    "plt.show()"
   ]
  },
  {
   "cell_type": "code",
   "execution_count": null,
   "id": "85a7ec1e-3c5a-416e-bef8-12ea805806d9",
   "metadata": {},
   "outputs": [],
   "source": []
  }
 ],
 "metadata": {
  "kernelspec": {
   "display_name": "Python 3 (ipykernel)",
   "language": "python",
   "name": "python3"
  },
  "language_info": {
   "codemirror_mode": {
    "name": "ipython",
    "version": 3
   },
   "file_extension": ".py",
   "mimetype": "text/x-python",
   "name": "python",
   "nbconvert_exporter": "python",
   "pygments_lexer": "ipython3",
   "version": "3.12.4"
  }
 },
 "nbformat": 4,
 "nbformat_minor": 5
}
