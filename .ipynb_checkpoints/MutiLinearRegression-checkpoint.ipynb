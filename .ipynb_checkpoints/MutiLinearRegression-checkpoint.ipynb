{
 "cells": [
  {
   "cell_type": "code",
   "execution_count": 1,
   "id": "d8350eb7-57b9-447c-8aa7-117e8342e745",
   "metadata": {},
   "outputs": [],
   "source": [
    "import numpy as np\n",
    "import matplotlib.pyplot as plt"
   ]
  },
  {
   "cell_type": "code",
   "execution_count": 2,
   "id": "9ce83cdc-a785-46d8-aafd-aa326a167942",
   "metadata": {},
   "outputs": [],
   "source": [
    "def model(x, w, b):\n",
    "    size = len(x)\n",
    "    y = np.zeros(size)\n",
    "    for i in range(size):\n",
    "        y[i] = np.dot(x[i], w) + b\n",
    "    return y"
   ]
  },
  {
   "cell_type": "code",
   "execution_count": 3,
   "id": "11199b87-e2b0-41f8-993b-43e7e00903df",
   "metadata": {},
   "outputs": [],
   "source": [
    "def cost(y_pred, y):\n",
    "    size = len(y)\n",
    "    dif = y_pred - y\n",
    "    return np.dot(dif, dif) / (2 * size)"
   ]
  },
  {
   "cell_type": "code",
   "execution_count": 4,
   "id": "56982e8e-fd3b-4f6d-81c4-a2a29940ad21",
   "metadata": {},
   "outputs": [],
   "source": [
    "def gradient(x, y, w, b):\n",
    "    size = len(x)\n",
    "    w_g = np.zeros(len(w))\n",
    "    b_g = 0\n",
    "    for i in range(size):\n",
    "        pred = np.dot(x[i], w) + b\n",
    "        dif = pred - y[i]\n",
    "        w_g = w_g + dif * x[i]\n",
    "        b_g = b_g + dif\n",
    "    w_g = w_g / size\n",
    "    b_g = b_g / size\n",
    "    return w_g, b_g"
   ]
  },
  {
   "cell_type": "code",
   "execution_count": 5,
   "id": "613a07d0-7601-4340-83bf-f145bbd57783",
   "metadata": {},
   "outputs": [],
   "source": [
    "def gradient_descent(x, y, w, b, alpha, iterCount):\n",
    "    for i in range(iterCount):\n",
    "        w_g, b_g = gradient(x, y, w, b)\n",
    "        w = w - alpha * w_g\n",
    "        b = b - alpha * b_g\n",
    "        if i % 10000 == 0:\n",
    "            y_pred = model(x_train, w, b)\n",
    "            c = cost(y_pred, y_train)\n",
    "            print(f\"Iteration {i:4d}: Cost {c:8.2f}   \")\n",
    "    return w, b"
   ]
  },
  {
   "cell_type": "code",
   "execution_count": 6,
   "id": "0df43b9a-f85e-4ea1-9bcf-dfa4cd5ddec5",
   "metadata": {},
   "outputs": [],
   "source": [
    "def zScore(x):\n",
    "    std = np.std(x, axis = 0)\n",
    "    mean = np.mean(x, axis = 0)\n",
    "    return (x - mean) / std"
   ]
  },
  {
   "cell_type": "code",
   "execution_count": 8,
   "id": "9d5efc38-3c1a-4b60-8825-c388fdfb6dd3",
   "metadata": {},
   "outputs": [
    {
     "name": "stdout",
     "output_type": "stream",
     "text": [
      "[1.45733333e+03 3.33333333e+00 1.33333333e+00 4.00000000e+01]\n",
      "Iteration    0: Cost  2529.46   \n",
      "Iteration 10000: Cost   624.82   \n",
      "Iteration 20000: Cost   594.33   \n",
      "Iteration 30000: Cost   581.01   \n",
      "Iteration 40000: Cost   574.73   \n",
      "Iteration 50000: Cost   571.36   \n",
      "Iteration 60000: Cost   569.18   \n",
      "Iteration 70000: Cost   567.49   \n",
      "Iteration 80000: Cost   566.01   \n",
      "Iteration 90000: Cost   564.61   \n",
      "w: [ 0.24224154  0.28821169 -0.85520022 -1.57622854], b: -0.041685017649388985\n"
     ]
    }
   ],
   "source": [
    "x_train = np.array([[2104, 5, 1, 45], [1416, 3, 2, 40], [852, 2, 1, 35]])\n",
    "y_train = np.array([460, 232, 178])\n",
    "\n",
    "x_norm = zScore(x_train)\n",
    "\n",
    "w = np.zeros(len(x_train[0]))\n",
    "b =  0\n",
    "\n",
    "#b = 785.1811367994083\n",
    "#w = np.array([ 0.39133535, 18.75376741, -53.36032453, -26.42131618])\n",
    "\n",
    "alpha = 5.0e-7\n",
    "iterCount = 100000\n",
    "\n",
    "w, b = gradient_descent(x_train, y_train, w, b, alpha, iterCount)\n",
    "print(f\"w: {w}, b: {b}\")"
   ]
  },
  {
   "cell_type": "code",
   "execution_count": null,
   "id": "9ce8df15-0bbc-443a-b9ef-bd6af1047c5a",
   "metadata": {},
   "outputs": [],
   "source": [
    "y_pred = model(x_train, w, b)\n",
    "for i in range(len(y_pred)):\n",
    "    print(f\"x: {x_train[i]}, y: {y_train[i]}, pred: {y_pred[i]}\")"
   ]
  },
  {
   "cell_type": "code",
   "execution_count": null,
   "id": "f96f09a2-45e6-4c27-aaa8-ff6f06841c0b",
   "metadata": {},
   "outputs": [],
   "source": [
    "fig, ax = plt.subplots(1, 4, figsize=(12, 3), sharey = True)\n",
    "\n",
    "x_features = ['size(sqft)', 'bedrooms', 'floors', 'age']\n",
    "\n",
    "for i in range(len(ax)):\n",
    "    ax[i].scatter(x_train[:,i], y_train, c = \"blue\", label = 'target')\n",
    "    ax[i].set_xlabel(x_features[i])\n",
    "    ax[i].scatter(x_train[:,i], y_pred, c = \"red\", label = 'predict')\n",
    "ax[0].set_ylabel(\"Price\"); \n",
    "ax[0].legend();\n",
    "\n",
    "plt.show()"
   ]
  },
  {
   "cell_type": "code",
   "execution_count": null,
   "id": "456466c2-4800-42aa-ab30-18a17994d768",
   "metadata": {},
   "outputs": [],
   "source": []
  }
 ],
 "metadata": {
  "kernelspec": {
   "display_name": "Python 3 (ipykernel)",
   "language": "python",
   "name": "python3"
  },
  "language_info": {
   "codemirror_mode": {
    "name": "ipython",
    "version": 3
   },
   "file_extension": ".py",
   "mimetype": "text/x-python",
   "name": "python",
   "nbconvert_exporter": "python",
   "pygments_lexer": "ipython3",
   "version": "3.12.4"
  }
 },
 "nbformat": 4,
 "nbformat_minor": 5
}
